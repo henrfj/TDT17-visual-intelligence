{
 "cells": [
  {
   "cell_type": "markdown",
   "metadata": {},
   "source": [
    "## Batch normalization solution\n",
    "Henrik Fjellheim\n",
    "\n",
    "\n",
    "### Task 1: normalize input data\n",
    "\n",
    "Eeahc feature independently."
   ]
  },
  {
   "cell_type": "code",
   "execution_count": 16,
   "metadata": {},
   "outputs": [],
   "source": [
    "import numpy as np\n",
    "x_1 = np.array([1, 25, 16])\n",
    "x_2 = np.array([20, 3, 2])"
   ]
  },
  {
   "cell_type": "code",
   "execution_count": 17,
   "metadata": {},
   "outputs": [],
   "source": [
    "## Normalize the batch\n",
    "def bn(x):\n",
    "    m = x.shape[0]\n",
    "    mean = 1/m * np.sum(x)\n",
    "    var = 1/m * np.sum((x-mean)**2)\n",
    "    return (x-mean) / np.sqrt(var)\n",
    "\n",
    "x_1_hat = bn(x_1)\n",
    "x_2_hat = bn(x_2)"
   ]
  },
  {
   "cell_type": "code",
   "execution_count": 23,
   "metadata": {},
   "outputs": [
    {
     "name": "stdout",
     "output_type": "stream",
     "text": [
      "x_1: (mean, var) -0.0 1.0\n",
      "x_2: (mean, var) 0.0 1.0\n"
     ]
    }
   ],
   "source": [
    "print(\"x_1: (mean, var)\", np.round(np.mean(x_1_hat), 2), np.round(np.var(x_1_hat), 2))\n",
    "print(\"x_2: (mean, var)\", np.round(np.mean(x_2_hat), 2), np.round(np.var(x_2_hat), 2))"
   ]
  },
  {
   "cell_type": "markdown",
   "metadata": {},
   "source": [
    "### Task 2: One forward pass\n",
    "$\\gamma = 0.5, \\beta = 0.5, \\alpha = 0.1$"
   ]
  },
  {
   "cell_type": "code",
   "execution_count": 24,
   "metadata": {},
   "outputs": [],
   "source": [
    "gamma = 0.5\n",
    "beta = 0.5\n",
    "alpha = 0.5\n",
    "\n",
    "# Scale and shift the input\n",
    "y_1 = gamma*x_1_hat + beta\n",
    "y_2 = gamma*x_2_hat + beta"
   ]
  },
  {
   "cell_type": "code",
   "execution_count": 36,
   "metadata": {},
   "outputs": [
    {
     "name": "stdout",
     "output_type": "stream",
     "text": [
      "[-2.17758632]\n",
      "[-1.9376684]\n",
      "[-1.13474529]\n"
     ]
    }
   ],
   "source": [
    "# First layer:\n",
    "w = np.array([[1], [2], [0.5], [-1], [-2], [-0.5]])\n",
    "\n",
    "for i in range(len(y_1)):\n",
    "    # Hidden layer\n",
    "    z1 = y_1[i]*w[0] + y_2[i]*w[2]\n",
    "    z2 = y_1[i]*w[3] + y_2[i]*w[1]\n",
    "    # Output layer\n",
    "    z3 = z1*w[4] + z2*w[5]\n",
    "    print(z3)\n"
   ]
  }
 ],
 "metadata": {
  "kernelspec": {
   "display_name": "Python 3.7.8 64-bit",
   "language": "python",
   "name": "python3"
  },
  "language_info": {
   "codemirror_mode": {
    "name": "ipython",
    "version": 3
   },
   "file_extension": ".py",
   "mimetype": "text/x-python",
   "name": "python",
   "nbconvert_exporter": "python",
   "pygments_lexer": "ipython3",
   "version": "3.7.8"
  },
  "orig_nbformat": 4,
  "vscode": {
   "interpreter": {
    "hash": "9f4bcb5483d3797e4ccb7ceb460a740ac9f20da3efed712a7aa712a18b8eadf8"
   }
  }
 },
 "nbformat": 4,
 "nbformat_minor": 2
}
