{
 "cells": [
  {
   "cell_type": "markdown",
   "metadata": {},
   "source": [
    "# Henrik Fjellheim's attempt at Markus Drange's problem:\n",
    "Topic: Mobilenet's depthwise, seperable convolution architecture.\n",
    "\n",
    "## Task 1a) Conventional convolution\n",
    "Find the number of operations needed to produce 10 feature maps from X using a 2x2x3 kernel (conventional convolution).\n",
    "\n",
    "ops = $D_k \\cdot D_k \\cdot M \\cdot N \\cdot D_F \\cdot D_F$\n",
    "- where $D_k$ is kernel size, $M$ is input channels, $N$ output channels, $D_F$ the feature map size.\n",
    "\n",
    "=> ops = $2 \\cdot 2 \\cdot 3 \\cdot 3 \\cdot 10 \\cdot 10$ = 3600 operations\n",
    "\n",
    "## Taks 1b) Depthwise seperable convolution:\n",
    "Use depthwise seperable convolution with a 2x2 kernel for depthwise seperable conv., and then 1x1x3 kernel for poinwise.\n",
    "\n",
    "ops = $D_k \\cdot D_k \\cdot M \\cdot D_F \\cdot D_F + \\cdot M \\cdot N \\cdot D_F \\cdot D_F$\n",
    "\n",
    "=> ops = $2 \\cdot 2 \\cdot 3 \\cdot 10 \\cdot 10 + \\cdot 3 \\cdot 3 \\cdot 10 \\cdot 10$ = 2100 operations\n"
   ]
  },
  {
   "cell_type": "markdown",
   "metadata": {},
   "source": [
    "## Task 2)\n",
    "\n",
    "Apply depthwise seperable to create one feature map of X, applying the given filters.\n",
    "\n",
    "![image](theX.png)"
   ]
  },
  {
   "cell_type": "code",
   "execution_count": 4,
   "metadata": {},
   "outputs": [],
   "source": [
    "import numpy as np"
   ]
  },
  {
   "cell_type": "code",
   "execution_count": 7,
   "metadata": {},
   "outputs": [
    {
     "name": "stdout",
     "output_type": "stream",
     "text": [
      "X.shape (3, 4, 4)\n"
     ]
    }
   ],
   "source": [
    "# Defining the input image\n",
    "X1 = np.array([[1, 0, 1, 1], [2, 1, 0, 2], [1, 0, 2, 2], [1, 2, 2, 1]])\n",
    "X2 = np.array([[2, 1, 1, 2], [1, 0, 2, 2], [2, 1, 1, 0], [0, 1, 1, 1]])\n",
    "X3 = np.array([[1, 0, 1, 1], [2, 1, 0, 2], [1, 0, 2, 2], [1, 2, 2, 1]])\n",
    "X = np.array([X1, X2, X3])\n",
    "print(\"X.shape\", X.shape)\n",
    "\n",
    "FD1 = np.array([[1, 0], [0, 1]])\n",
    "FD2 = np.array([[1, 0], [1, 0]])\n",
    "FD3 = np.array([[1, -1], [0, 0]])"
   ]
  },
  {
   "cell_type": "code",
   "execution_count": 12,
   "metadata": {},
   "outputs": [],
   "source": [
    "def convolution_2D(X, F, s=1):\n",
    "    \"\"\"\n",
    "    Simple 2D convolution.\n",
    "    \"\"\"\n",
    "    w_out = (X.shape[0] - F.shape[0])//s + 1\n",
    "    h_out = (X.shape[1] - F.shape[1])//s + 1\n",
    "    z = np.zeros((h_out, w_out))\n",
    "    for j in range(0, w_out, s):\n",
    "        for i in range(0, h_out, s):\n",
    "            z[i,j] = X[i:i+F.shape[1], j:j+F.shape[0]].flatten().dot(F.flatten())\n",
    "    return z"
   ]
  },
  {
   "cell_type": "code",
   "execution_count": 13,
   "metadata": {},
   "outputs": [
    {
     "data": {
      "text/plain": [
       "(array([[2., 0., 3.],\n",
       "        [2., 3., 2.],\n",
       "        [3., 2., 3.]]),\n",
       " array([[3., 1., 3.],\n",
       "        [3., 1., 3.],\n",
       "        [2., 2., 2.]]),\n",
       " array([[ 1., -1.,  0.],\n",
       "        [ 1.,  1., -2.],\n",
       "        [ 1., -2.,  0.]]))"
      ]
     },
     "execution_count": 13,
     "metadata": {},
     "output_type": "execute_result"
    }
   ],
   "source": [
    "a1 = convolution_2D(X1, FD1, b=0, s=1)\n",
    "a2 = convolution_2D(X2, FD2, b=0, s=1)\n",
    "a3 = convolution_2D(X3, FD3, b=0, s=1)\n",
    "a1, a2, a3"
   ]
  },
  {
   "cell_type": "markdown",
   "metadata": {},
   "source": [
    "**We now want to** do the bitwise convolution, to get a single feature map."
   ]
  },
  {
   "cell_type": "code",
   "execution_count": 14,
   "metadata": {},
   "outputs": [
    {
     "data": {
      "text/plain": [
       "(3,)"
      ]
     },
     "execution_count": 14,
     "metadata": {},
     "output_type": "execute_result"
    }
   ],
   "source": [
    "FP = np.array([2, 1, 1])\n",
    "FP.shape"
   ]
  },
  {
   "cell_type": "code",
   "execution_count": 20,
   "metadata": {},
   "outputs": [],
   "source": [
    "def bitwise_convolution_3D(X, F, s=1):\n",
    "    \"\"\"\n",
    "    Simple 3D bitwise convolution.\n",
    "    \"\"\"\n",
    "    # No reduction in size, for bitwise operations\n",
    "    z = np.zeros((X.shape[1],X.shape[2])) \n",
    "    for j in range(0, X.shape[1], s):\n",
    "        for i in range(0, X.shape[2], s):    \n",
    "            z[i, j] = X[0, i, j]*F[0] + X[1, i, j]*F[1] + X[2, i, j]*F[2]\n",
    "                \n",
    "    return z"
   ]
  },
  {
   "cell_type": "code",
   "execution_count": 22,
   "metadata": {},
   "outputs": [
    {
     "name": "stdout",
     "output_type": "stream",
     "text": [
      "[[8. 0. 9.]\n",
      " [8. 8. 5.]\n",
      " [9. 4. 8.]]\n"
     ]
    }
   ],
   "source": [
    "X = np.array([a1, a2, a3])\n",
    "\n",
    "output = bitwise_convolution_3D(X, FP)\n",
    "print(output)"
   ]
  },
  {
   "cell_type": "code",
   "execution_count": null,
   "metadata": {},
   "outputs": [],
   "source": []
  }
 ],
 "metadata": {
  "kernelspec": {
   "display_name": "Python 3.7.8 64-bit",
   "language": "python",
   "name": "python3"
  },
  "language_info": {
   "codemirror_mode": {
    "name": "ipython",
    "version": 3
   },
   "file_extension": ".py",
   "mimetype": "text/x-python",
   "name": "python",
   "nbconvert_exporter": "python",
   "pygments_lexer": "ipython3",
   "version": "3.7.8"
  },
  "orig_nbformat": 4,
  "vscode": {
   "interpreter": {
    "hash": "9f4bcb5483d3797e4ccb7ceb460a740ac9f20da3efed712a7aa712a18b8eadf8"
   }
  }
 },
 "nbformat": 4,
 "nbformat_minor": 2
}
