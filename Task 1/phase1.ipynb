{
 "cells": [
  {
   "cell_type": "markdown",
   "metadata": {},
   "source": [
    "## Experimental: my own work\n",
    "\n",
    "Some example problems are (increasing complexity):\n",
    "- FBPass for a single conv layer: Find loss gradient for both kernel and input.\n",
    "- Add bias and an activation function (AF).\n",
    "- Add a pooling layer, and a fully connected dense layer ( This will give full score! )"
   ]
  },
  {
   "cell_type": "code",
   "execution_count": 132,
   "metadata": {},
   "outputs": [],
   "source": [
    "\n",
    "import numpy as np\n",
    "import matplotlib.pyplot as plt"
   ]
  },
  {
   "cell_type": "code",
   "execution_count": 133,
   "metadata": {},
   "outputs": [
    {
     "data": {
      "text/plain": [
       "((60000, 28, 28), (60000,))"
      ]
     },
     "execution_count": 133,
     "metadata": {},
     "output_type": "execute_result"
    }
   ],
   "source": [
    "import keras\n",
    "from keras.datasets import mnist\n",
    "#load mnist dataset\n",
    "(X_train, y_train), (X_test, y_test) = mnist.load_data()\n",
    "X_train.shape, y_train.shape"
   ]
  },
  {
   "cell_type": "markdown",
   "metadata": {},
   "source": [
    "### Simplest case - binary classification\n",
    "A single convolutional layer, then a a dense layer."
   ]
  },
  {
   "cell_type": "code",
   "execution_count": 134,
   "metadata": {},
   "outputs": [],
   "source": [
    "# Reduce to a binary classification problem\n",
    "train_idx = np.where((y_train==0)|(y_train==1))[0]\n",
    "test_idx = np.where((y_test==0)|(y_test==1))[0]\n",
    "\n",
    "X_train = X_train[train_idx]\n",
    "y_train = y_train[train_idx]\n",
    "X_test = X_test[test_idx]\n",
    "y_test = y_test[test_idx]"
   ]
  },
  {
   "cell_type": "code",
   "execution_count": 135,
   "metadata": {},
   "outputs": [
    {
     "data": {
      "text/plain": [
       "<matplotlib.image.AxesImage at 0x25b8de87b48>"
      ]
     },
     "execution_count": 135,
     "metadata": {},
     "output_type": "execute_result"
    },
    {
     "data": {
      "image/png": "[encoded data removed]",
      "text/plain": [
       "<Figure size 432x288 with 1 Axes>"
      ]
     },
     "metadata": {
      "needs_background": "light"
     },
     "output_type": "display_data"
    }
   ],
   "source": [
    "plt.imshow(X_test[100], cmap=\"gray\")"
   ]
  },
  {
   "cell_type": "code",
   "execution_count": 136,
   "metadata": {},
   "outputs": [],
   "source": [
    "def convolution(X, F, b=0, s=1):\n",
    "    # Convolutional layer\n",
    "    # note: no padding and depth=1 just to make calculations a bit simpler\n",
    "    # Output feature size\n",
    "    w_out = (X.shape[0] - F.shape[0])//s + 1\n",
    "    h_out = (X.shape[1] - F.shape[1])//s + 1\n",
    "    z = np.zeros((h_out, w_out))\n",
    "    for j in range(0, w_out, s):\n",
    "        for i in range(0, h_out, s):\n",
    "            z[i,j] = X[i:i+F.shape[1], j:j+F.shape[0]].flatten().dot(F.flatten()) + b\n",
    "    return z\n",
    "\n",
    "def max_pool(X, k, s):\n",
    "    h_out = (X.shape[0] - k)//s + 1\n",
    "    w_out = (X.shape[1] - k)//s + 1\n",
    "    z = np.zeros((h_out, w_out))\n",
    "    idx = []\n",
    "    for j in range(0, h_out):\n",
    "        for i in range(0, w_out):\n",
    "            block = X[j*k:j*k+k, i*k:i*k+k]\n",
    "            z[j,i] = np.max(block)\n",
    "            index = np.add(np.unravel_index(block.argmax(), block.shape), (j*k, i*k))\n",
    "            idx.append(index) # Save indices of max values for backward pass!\n",
    "    return z, idx\n",
    "    \n",
    "def ReLU(x):\n",
    "    return abs(x) * (x > 0) # abs just makes -0.0 into 0.0 for easier reading\n",
    "def d_ReLU(x): # differentiated!\n",
    "    return 1 * (x > 0)\n",
    "def sigmoid(x):\n",
    "    y = np.exp(x)\n",
    "    return y / (1 + y)\n",
    "def d_sigmoid(x): # differentiated!\n",
    "    y = sigmoid(x)\n",
    "    return y * (1.0 - y)\n",
    "def bce_loss(y, p):\n",
    "    # Binary cross-entropy loss function\n",
    "    return -(y * np.log10(p) + (1-y) * np.log10(1-p))\n",
    "def d_bce_loss(y,p): # differentiated!\n",
    "    # Derivative wrt. p\n",
    "    return (1 - y) / (1 - p) - (y / p)"
   ]
  },
  {
   "cell_type": "code",
   "execution_count": 137,
   "metadata": {},
   "outputs": [],
   "source": [
    "def simple_fit(X_train, y_train, lr=0.1):\n",
    "    # Initialize randomly\n",
    "    b1 = 1.0 # conv Bias\n",
    "    F = np.array([[1,-1],[-1,1]]) # Kernel\n",
    "    w4 = np.random.randn(169)\n",
    "    b4 = 0 # neuron Bias\n",
    "    lr = 0.1 # Leanring rate\n",
    "     \n",
    "    losses = np.zeros(len(X_train))\n",
    "    for i, X in enumerate(X_train):\n",
    "        X = X/255 # normalize\n",
    "        ####################\n",
    "        ### Forward pass ###\n",
    "        ####################\n",
    "        # Convolution\n",
    "        z1 = convolution(X, F, b1, s=1) # Perform convolution\n",
    "        a1 = ReLU(z1) # Apply AF\n",
    "        # Maxpool and flatten\n",
    "        a2, max_idx = max_pool(a1, k=2, s=2)\n",
    "        a3 = a2.flatten()\n",
    "        # Fully-connected layer\n",
    "        z4 = w4.dot(a3) + b4\n",
    "        a4 = sigmoid(z4)\n",
    "        # Loss\n",
    "        loss = bce_loss(y_train[i], a4)\n",
    "        losses[i] = loss\n",
    "        ####################\n",
    "        ### Backward pass ##\n",
    "        ####################\n",
    "        # Fully connected layer:\n",
    "        delta = d_bce_loss(y_train[i], a4) * d_sigmoid(z4)\n",
    "        b4 = b4 - lr * delta # Update bias\n",
    "        delta = delta * a3 # Gradient wrt. w4\n",
    "        w4 = w4 - lr * delta # Update weights\n",
    "\n",
    "        # NEXT, we unflatten the backpropagated derivative:\n",
    "        delta = delta.reshape(a2.shape)\n",
    "        # maxpooling layer\n",
    "        d = np.zeros(a1.shape)\n",
    "        for idx, grad in zip(max_idx, delta.flatten()):\n",
    "            i, j = idx[0], idx[1]\n",
    "            d[i,j] = grad\n",
    "        delta = d\n",
    "        # Backprop through delta\n",
    "        delta = d_ReLU(z1) * delta\n",
    "        # The conv bias\n",
    "        grad_b1 = delta.sum() # dL/d(b1)\n",
    "        # The conv kernel\n",
    "        grad_F = convolution(X, delta)\n",
    "        model = {\"b1\":b1, \"F\":F, \"b4\":b4, \"w4\":w4}\n",
    "    return model, losses\n",
    "        \n",
    "\n",
    "def prediction(model, test_data):\n",
    "    for i, X in enumerate(test_data):\n",
    "        X = X/255 # normalize\n",
    "        b1 = model[\"b1\"]\n",
    "        F = model[\"F\"]\n",
    "        b4 = model[\"b4\"]\n",
    "        w4 = model[\"w4\"]\n",
    "        predictions = np.zeros(len(test_data))\n",
    "        ####################\n",
    "        ### Forward pass ###\n",
    "        ####################\n",
    "        # Convolution\n",
    "        z1 = convolution(X, F, b1, s=1) # Perform convolution\n",
    "        a1 = ReLU(z1) # Apply AF\n",
    "        # Maxpool and flatten\n",
    "        a2, max_idx = max_pool(a1, k=2, s=2)\n",
    "        a3 = a2.flatten()\n",
    "        # Fully-connected layer\n",
    "        z4 = w4.dot(a3) + b4\n",
    "        a4 = sigmoid(z4)\n",
    "        # Loss\n",
    "        predictions[i] = a4\n",
    "    return predictions"
   ]
  },
  {
   "cell_type": "code",
   "execution_count": 138,
   "metadata": {},
   "outputs": [],
   "source": [
    "model, losses = simple_fit(X_train, y_train, lr=0.1)"
   ]
  },
  {
   "cell_type": "code",
   "execution_count": 139,
   "metadata": {},
   "outputs": [
    {
     "data": {
      "image/png": "[encoded data removed]",
      "text/plain": [
       "<Figure size 432x288 with 1 Axes>"
      ]
     },
     "metadata": {
      "needs_background": "light"
     },
     "output_type": "display_data"
    }
   ],
   "source": [
    "# Average loss over time\n",
    "avg = np.convolve(losses, np.ones(50)/50, mode='valid')\n",
    "# plotting the loss\n",
    "plt.title(\"Average loss\")\n",
    "plt.xlabel(\"Training sample\")\n",
    "plt.ylabel(\"Binary cross entropy loss\")\n",
    "plt.plot(np.linspace(0, len(avg), len(avg)), avg);"
   ]
  },
  {
   "cell_type": "code",
   "execution_count": 140,
   "metadata": {},
   "outputs": [],
   "source": [
    "preds = prediction(model, X_test)"
   ]
  },
  {
   "cell_type": "code",
   "execution_count": 141,
   "metadata": {},
   "outputs": [
    {
     "name": "stdout",
     "output_type": "stream",
     "text": [
      "Accuracy: 53.61702127659574 %\n"
     ]
    }
   ],
   "source": [
    "print(\"Accuracy:\", np.sum(np.abs(np.round(preds, 1) - y_test)) / len(y_test) * 100,\"%\")"
   ]
  },
  {
   "cell_type": "code",
   "execution_count": 143,
   "metadata": {},
   "outputs": [
    {
     "name": "stdout",
     "output_type": "stream",
     "text": [
      "Accuracy: 53.225424397947094 %\n"
     ]
    }
   ],
   "source": [
    "preds = prediction(model, X_train)\n",
    "print(\"Accuracy:\", np.sum(np.abs(np.round(preds, 1) - y_train)) / len(y_train) * 100,\"%\")"
   ]
  },
  {
   "cell_type": "code",
   "execution_count": null,
   "metadata": {},
   "outputs": [],
   "source": []
  }
 ],
 "metadata": {
  "kernelspec": {
   "display_name": "Python 3.7.8 64-bit",
   "language": "python",
   "name": "python3"
  },
  "language_info": {
   "codemirror_mode": {
    "name": "ipython",
    "version": 3
   },
   "file_extension": ".py",
   "mimetype": "text/x-python",
   "name": "python",
   "nbconvert_exporter": "python",
   "pygments_lexer": "ipython3",
   "version": "3.7.8"
  },
  "orig_nbformat": 4,
  "vscode": {
   "interpreter": {
    "hash": "9f4bcb5483d3797e4ccb7ceb460a740ac9f20da3efed712a7aa712a18b8eadf8"
   }
  }
 },
 "nbformat": 4,
 "nbformat_minor": 2
}
