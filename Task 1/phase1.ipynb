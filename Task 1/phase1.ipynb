{
 "cells": [
  {
   "cell_type": "markdown",
   "metadata": {},
   "source": [
    "## Experimental: my own work\n",
    "\n",
    "Some example problems are (increasing complexity):\n",
    "- FBPass for a single conv layer: Find loss gradient for both kernel and input.\n",
    "- Add bias and an activation function (AF).\n",
    "- Add a pooling layer, and a fully connected dense layer ( This will give full score! )"
   ]
  },
  {
   "cell_type": "code",
   "execution_count": 630,
   "metadata": {},
   "outputs": [],
   "source": [
    "\n",
    "import numpy as np\n",
    "import matplotlib.pyplot as plt\n",
    "import math\n"
   ]
  },
  {
   "cell_type": "code",
   "execution_count": 664,
   "metadata": {},
   "outputs": [
    {
     "data": {
      "text/plain": [
       "(6, 6, 6)"
      ]
     },
     "execution_count": 664,
     "metadata": {},
     "output_type": "execute_result"
    }
   ],
   "source": [
    "def visualize_image(X, label):\n",
    "    # Plot \"pixels\" with numerical value and color map\n",
    "    fig = plt.figure(figsize=(3, 3))\n",
    "    ax = fig.add_subplot(1,1,1)\n",
    "    ax.axis('off')\n",
    "    ax.imshow(X, cmap=\"coolwarm\")\n",
    "    ax.title.set_text(label)\n",
    "    for i in range(X.shape[0]):\n",
    "        for j in range(X.shape[1]):\n",
    "            ax.text(j, i, f\"{X[i,j]:.2f}\", color=\"black\", fontsize=\"small\", ha=\"center\", va=\"center\")\n",
    "\n",
    "edge1 = np.array([[0,0,0,0,0, 0], [0,1,1,0,0,0], [0,1,0,0,0,0], [0,0,0,0,0,0], [0,0,0,0,0,0], [0,0,0,0,0,0]])\n",
    "edge2 = np.array([[0,0,0,0,0, 0], [0,0,1,1,0,0], [0,0,1,0,0,0], [0,0,0,0,0,0], [0,0,0,0,0,0], [0,0,0,0,0,0]])\n",
    "edge3 = np.array([[0,0,0,0,0, 0], [0,0,0,0,0,0], [0,0,0,1,1,0], [0,0,0,1,0,0], [0,0,0,0,0,0], [0,0,0,0,0,0]])\n",
    "\n",
    "no_edge1 = np.array([[1,0,0,1,0,0], [0,0,0,1,0,0], [1,0,0,0,0,0], [0,0,0,0,0,1], [0,0,0,0,1,0], [0,0,0,0,0,0]])\n",
    "no_edge2 = np.array([[0,0,0,1,0,0], [0,0,0,1,0,0], [0,0,0,0,0,0], [0,0,0,0,0,0], [0,0,0,0,0,0], [0,0,0,1,0,0]])\n",
    "no_edge3 = np.array([[0,1,0,0,0,0], [0,0,0,0,0,0], [0,0,1,0,0,0], [0,0,0,0,0,0], [0,0,0,1,0,0], [0,0,0,0,0,0]])\n",
    "\n",
    "singles1 = np.array([[0,0,0,0,0,0], [0,0,0,0,0,0], [0,0,0,0,1,0], [0,0,0,0,0,0], [0,0,0,0,0,0], [0,0,0,0,0,0]])\n",
    "singles2 = np.array([[0,0,0,0,0,0], [0,0,1,0,0,0], [0,0,0,0,0,0], [0,0,0,0,0,0], [0,0,0,0,0,0], [0,0,0,0,0,0]])\n",
    "singles3 = np.array([[0,0,0,0,0,0], [0,0,0,0,0,0], [0,0,0,0,0,0], [0,0,0,0,1,0], [0,0,0,0,0,0], [0,0,0,0,0,0]])\n",
    "\n",
    "\n",
    "y_train = np.array([1, 1, 1, 0, 0, 0]) # 1 is edge, 0 is no edge\n",
    "#X_train = np.asarray([edge1, edge2, edge3, no_edge1, no_edge2, no_edge3])\n",
    "X_train = np.asarray([edge1, edge2, edge3, singles1, singles2, singles3])\n",
    "\n",
    "X_train.shape"
   ]
  },
  {
   "cell_type": "markdown",
   "metadata": {},
   "source": [
    "### Simplest case - binary classification\n",
    "A single convolutional layer, then a a dense layer."
   ]
  },
  {
   "cell_type": "code",
   "execution_count": 148,
   "metadata": {},
   "outputs": [],
   "source": [
    "def convolution(X, F, b=0, s=1):\n",
    "    # Convolutional layer\n",
    "    # note: no padding and depth=1 just to make calculations a bit simpler\n",
    "    # Output feature size\n",
    "    w_out = (X.shape[0] - F.shape[0])//s + 1\n",
    "    h_out = (X.shape[1] - F.shape[1])//s + 1\n",
    "    z = np.zeros((h_out, w_out))\n",
    "    for j in range(0, w_out, s):\n",
    "        for i in range(0, h_out, s):\n",
    "            z[i,j] = X[i:i+F.shape[1], j:j+F.shape[0]].flatten().dot(F.flatten()) + b\n",
    "    return z\n",
    "\n",
    "def max_pool(X, k, s):\n",
    "    h_out = (X.shape[0] - k)//s + 1\n",
    "    w_out = (X.shape[1] - k)//s + 1\n",
    "    z = np.zeros((h_out, w_out))\n",
    "    idx = []\n",
    "    for j in range(0, h_out):\n",
    "        for i in range(0, w_out):\n",
    "            block = X[j*k:j*k+k, i*k:i*k+k]\n",
    "            z[j,i] = np.max(block)\n",
    "            index = np.add(np.unravel_index(block.argmax(), block.shape), (j*k, i*k))\n",
    "            idx.append(index) # Save indices of max values for backward pass!\n",
    "    return z, idx\n",
    "    \n",
    "def ReLU(x):\n",
    "    return abs(x) * (x > 0) # abs just makes -0.0 into 0.0 for easier reading\n",
    "def d_ReLU(x): # differentiated!\n",
    "    return 1 * (x > 0)\n",
    "def sigmoid(x):\n",
    "    y = np.exp(x)\n",
    "    return y / (1 + y)\n",
    "def d_sigmoid(x): # differentiated!\n",
    "    y = sigmoid(x)\n",
    "    return y * (1.0 - y)\n",
    "def bce_loss(y, p):\n",
    "    # Binary cross-entropy loss function\n",
    "    return -(y * np.log10(p) + (1-y) * np.log10(1-p))\n",
    "def d_bce_loss(y,p): # differentiated!\n",
    "    # Derivative wrt. p\n",
    "    return (1 - y) / (1 - p) - (y / p)"
   ]
  },
  {
   "cell_type": "code",
   "execution_count": 677,
   "metadata": {},
   "outputs": [],
   "source": [
    "def simple_fit(X_train, y_train, lr=0.1, epochs=10, verbose=False, scale=255):\n",
    "    # Initialize randomly\n",
    "    b1 = 1.0 # conv Bias\n",
    "    F = np.array([[-0.5,0.5, -0.5],[-0.5,0.5, -0.5], [-0.5,0.5, -0.5]]) # Kernel\n",
    "    #F = np.array([[0.1,-0.1],[-0.1,0.1]]) # Kernel\n",
    "    w4 = None \n",
    "    b4 = 0 # neuron Bias\n",
    "    lr = 0.1 # Leanring rate\n",
    "    losses = []\n",
    "\n",
    "    for e in range(epochs):\n",
    "        for i, X in enumerate(X_train):        \n",
    "            X = X/scale # normalize\n",
    "            ####################\n",
    "            ### Forward pass ###\n",
    "            ####################\n",
    "            # Convolution\n",
    "            z1 = convolution(X, F, b1, s=1) # Perform convolution\n",
    "            a1 = ReLU(z1) # Apply AF\n",
    "            # Maxpool and flatten\n",
    "            a2, max_idx = max_pool(a1, k=2, s=2)\n",
    "            a3 = a2.flatten()\n",
    "            # Initialize to correct size\n",
    "            if e==0 and i==0:\n",
    "                w4 = np.random.randn(len(a3))\n",
    "            # Fully-connected layer\n",
    "            z4 = w4.dot(a3) + b4\n",
    "            a4 = sigmoid(z4)\n",
    "            # Loss\n",
    "            loss = bce_loss(y_train[i], a4)\n",
    "            losses.append(loss)\n",
    "\n",
    "            if math.isnan(losses[-1]):\n",
    "                print(\"Could not find minima, restarting\")\n",
    "                return simple_fit(X_train, y_train, lr=lr, epochs=epochs, verbose=verbose, scale=scale)\n",
    "\n",
    "            ####################\n",
    "            ### Backward pass ##\n",
    "            ####################\n",
    "            # Fully connected layer:\n",
    "            delta = d_bce_loss(y_train[i], a4) * d_sigmoid(z4)\n",
    "            b4 = b4 - lr * delta # Update bias\n",
    "            delta = delta * a3 # Gradient wrt. w4\n",
    "            w4 = w4 - lr * delta # Update weights\n",
    "\n",
    "            # NEXT, we unflatten the backpropagated derivative:\n",
    "            delta = delta.reshape(a2.shape)\n",
    "            # maxpooling layer\n",
    "            d = np.zeros(a1.shape)\n",
    "            for idx, grad in zip(max_idx, delta.flatten()):\n",
    "                i, j = idx[0], idx[1]\n",
    "                d[i,j] = grad\n",
    "            delta = d\n",
    "            # Backprop through delta\n",
    "            delta = d_ReLU(z1) * delta\n",
    "            # The conv bias\n",
    "            grad_b1 = delta.sum() # dL/d(b1)\n",
    "            b1 = b1 - lr * grad_b1 # Update bias\n",
    "            # The conv kernel\n",
    "            grad_F = convolution(X, delta)\n",
    "            F = F - lr * grad_F # Update weights\n",
    "\n",
    "        if verbose:\n",
    "            print(\"Epoch:\", e)\n",
    "            print(\"loss:\", losses[-1])\n",
    "\n",
    "\n",
    "    model = {\"b1\":b1, \"F\":F, \"b4\":b4, \"w4\":w4}\n",
    "    #if math.isnan(losses[-1]):\n",
    "    #    print(\"Could not find minima, restarting\")\n",
    "    #    return simple_fit(X_train, y_train, lr=lr, epochs=epochs, verbose=verbose, scale=scale)\n",
    "    return model, losses\n",
    "        \n",
    "\n",
    "def prediction(model, test_data, scale=255):\n",
    "    predictions = np.zeros(len(test_data))\n",
    "    for i, X in enumerate(test_data):\n",
    "        X = X/scale # normalize\n",
    "        b1 = model[\"b1\"]\n",
    "        F = model[\"F\"]\n",
    "        b4 = model[\"b4\"]\n",
    "        w4 = model[\"w4\"]\n",
    "        ####################\n",
    "        ### Forward pass ###\n",
    "        ####################\n",
    "        # Convolution\n",
    "        z1 = convolution(X, F, b1, s=1) # Perform convolution\n",
    "        a1 = ReLU(z1) # Apply AF\n",
    "        # Maxpool and flatten\n",
    "        a2, max_idx = max_pool(a1, k=2, s=2)\n",
    "        a3 = a2.flatten()\n",
    "        # Fully-connected layer\n",
    "        z4 = w4.dot(a3) + b4\n",
    "        a4 = sigmoid(z4)\n",
    "        # Loss\n",
    "        predictions[i] = a4\n",
    "    return predictions"
   ]
  },
  {
   "cell_type": "markdown",
   "metadata": {},
   "source": [
    "#### Let us test the simple framework: Edge detection"
   ]
  },
  {
   "cell_type": "code",
   "execution_count": 665,
   "metadata": {},
   "outputs": [
    {
     "data": {
      "image/png": "[encoded data removed]",
      "text/plain": [
       "<Figure size 720x1080 with 6 Axes>"
      ]
     },
     "metadata": {
      "needs_background": "light"
     },
     "output_type": "display_data"
    }
   ],
   "source": [
    "fig, axs = plt.subplots(nrows=1, ncols=6, figsize=(10, 15))\n",
    "# plotting the loss\n",
    "axs[0].imshow(X_train[0])\n",
    "axs[1].imshow(X_train[1])\n",
    "axs[2].imshow(X_train[2])\n",
    "axs[3].imshow(X_train[3])\n",
    "axs[4].imshow(X_train[4])\n",
    "axs[5].imshow(X_train[5]);"
   ]
  },
  {
   "cell_type": "code",
   "execution_count": 678,
   "metadata": {},
   "outputs": [
    {
     "name": "stderr",
     "output_type": "stream",
     "text": [
      "c:\\Users\\henri\\AppData\\Local\\Programs\\Python\\Python37\\lib\\site-packages\\ipykernel_launcher.py:38: RuntimeWarning: divide by zero encountered in log10\n",
      "c:\\Users\\henri\\AppData\\Local\\Programs\\Python\\Python37\\lib\\site-packages\\ipykernel_launcher.py:41: RuntimeWarning: divide by zero encountered in true_divide\n",
      "c:\\Users\\henri\\AppData\\Local\\Programs\\Python\\Python37\\lib\\site-packages\\ipykernel_launcher.py:41: RuntimeWarning: invalid value encountered in double_scalars\n",
      "c:\\Users\\henri\\AppData\\Local\\Programs\\Python\\Python37\\lib\\site-packages\\ipykernel_launcher.py:38: RuntimeWarning: invalid value encountered in multiply\n"
     ]
    },
    {
     "name": "stdout",
     "output_type": "stream",
     "text": [
      "Could not find minima, restarting\n",
      "Could not find minima, restarting\n",
      "Could not find minima, restarting\n",
      "Could not find minima, restarting\n",
      "Could not find minima, restarting\n",
      "Could not find minima, restarting\n",
      "Could not find minima, restarting\n",
      "Could not find minima, restarting\n",
      "Could not find minima, restarting\n",
      "Could not find minima, restarting\n",
      "Could not find minima, restarting\n",
      "Could not find minima, restarting\n",
      "Could not find minima, restarting\n",
      "Could not find minima, restarting\n",
      "Could not find minima, restarting\n",
      "Could not find minima, restarting\n",
      "Could not find minima, restarting\n",
      "Could not find minima, restarting\n",
      "Could not find minima, restarting\n"
     ]
    }
   ],
   "source": [
    "model, losses = simple_fit(X_train, y_train, lr=0.1, epochs=400, verbose=False, scale=1)"
   ]
  },
  {
   "cell_type": "code",
   "execution_count": 679,
   "metadata": {},
   "outputs": [
    {
     "data": {
      "image/png": "[encoded data removed]",
      "text/plain": [
       "<Figure size 432x288 with 1 Axes>"
      ]
     },
     "metadata": {
      "needs_background": "light"
     },
     "output_type": "display_data"
    }
   ],
   "source": [
    "# Average loss over time\n",
    "N=50\n",
    "avg = np.convolve(losses, np.ones(N)/N, mode='valid')\n",
    "# plotting the loss\n",
    "plt.title(\"Loss\")\n",
    "plt.xlabel(\"Epoch\")\n",
    "plt.ylabel(\"Binary cross entropy loss\")\n",
    "plt.plot(np.linspace(0, len(losses), len(losses)), losses, label=\"Loss\")\n",
    "plt.plot(np.linspace(0, len(avg), len(avg)), avg, label=\"Average loss\")\n",
    "plt.legend();"
   ]
  },
  {
   "cell_type": "code",
   "execution_count": 680,
   "metadata": {},
   "outputs": [
    {
     "data": {
      "text/plain": [
       "array([9.96244638e-01, 9.96215619e-01, 1.00000000e+00, 9.86174809e-05,\n",
       "       8.75088206e-03, 1.33117914e-11])"
      ]
     },
     "execution_count": 680,
     "metadata": {},
     "output_type": "execute_result"
    }
   ],
   "source": [
    "prediction(model, X_train, scale=1)"
   ]
  },
  {
   "cell_type": "markdown",
   "metadata": {},
   "source": [
    "#### Will it recognize some new data?"
   ]
  },
  {
   "cell_type": "code",
   "execution_count": 681,
   "metadata": {},
   "outputs": [
    {
     "data": {
      "text/plain": [
       "(array([1.]), array([0.02770865]))"
      ]
     },
     "execution_count": 681,
     "metadata": {},
     "output_type": "execute_result"
    },
    {
     "data": {
      "image/png": "[encoded data removed]",
      "text/plain": [
       "<Figure size 360x576 with 2 Axes>"
      ]
     },
     "metadata": {
      "needs_background": "light"
     },
     "output_type": "display_data"
    }
   ],
   "source": [
    "edge4 = np.array([[0,0,0,0,0, 0], [0,0,0,0,0,0], [0,1,1,0,0,0], [0,1,0,0,0,0], [0,0,0,0,0,0], [0, 0, 0, 0, 0, 0]])\n",
    "singles4 = np.array([[0,0,0,0,0,0], [0,0,0,0,1,0], [0,0,0,0,0,0], [0,0,0,0,0,0], [0,0,0,0,0,0], [0, 0, 0, 0, 0, 0]])\n",
    "fig, axs = plt.subplots(nrows=1, ncols=2, figsize=(5, 8))\n",
    "# plotting the loss\n",
    "axs[0].imshow(edge4)\n",
    "axs[1].imshow(singles4)\n",
    "\n",
    "prediction(model, [edge4], scale=1), prediction(model, [singles4], scale=1)\n"
   ]
  },
  {
   "cell_type": "markdown",
   "metadata": {},
   "source": [
    "#### A \"deeper look\"\n",
    "https://medium.com/analytics-vidhya/creating-convolutional-neural-networks-from-scratch-6daaa6b9eea0"
   ]
  },
  {
   "cell_type": "code",
   "execution_count": null,
   "metadata": {},
   "outputs": [],
   "source": [
    "import numpy as np\n",
    "from matplotlib import pyplot as plt\n",
    "def sigmoid(x):\n",
    "    return 1/(1+np.exp(-x))\n",
    "def sigmoid_p(x):\n",
    "    return sigmoid(x)*(1 -sigmoid(x))\n",
    "def relu(x):\n",
    "    return np.maximum(x, 0)\n",
    "def relu_p(x):\n",
    "    return np.heaviside(x, 0)\n",
    "def deriv_func(z,function):\n",
    "    if function == sigmoid:\n",
    "        return sigmoid_p(z)\n",
    "    elif function == relu:\n",
    "        return relu_p(z)"
   ]
  },
  {
   "cell_type": "code",
   "execution_count": null,
   "metadata": {},
   "outputs": [],
   "source": []
  },
  {
   "cell_type": "code",
   "execution_count": null,
   "metadata": {},
   "outputs": [],
   "source": []
  },
  {
   "cell_type": "code",
   "execution_count": null,
   "metadata": {},
   "outputs": [],
   "source": []
  },
  {
   "cell_type": "code",
   "execution_count": null,
   "metadata": {},
   "outputs": [],
   "source": []
  }
 ],
 "metadata": {
  "kernelspec": {
   "display_name": "Python 3.7.8 64-bit",
   "language": "python",
   "name": "python3"
  },
  "language_info": {
   "codemirror_mode": {
    "name": "ipython",
    "version": 3
   },
   "file_extension": ".py",
   "mimetype": "text/x-python",
   "name": "python",
   "nbconvert_exporter": "python",
   "pygments_lexer": "ipython3",
   "version": "3.7.8"
  },
  "orig_nbformat": 4,
  "vscode": {
   "interpreter": {
    "hash": "9f4bcb5483d3797e4ccb7ceb460a740ac9f20da3efed712a7aa712a18b8eadf8"
   }
  }
 },
 "nbformat": 4,
 "nbformat_minor": 2
}
