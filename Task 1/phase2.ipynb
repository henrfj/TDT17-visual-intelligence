{
 "cells": [
  {
   "cell_type": "markdown",
   "metadata": {},
   "source": [
    "### Problem-solving:\n",
    "\n",
    "Turn the \"complete\" example from above into a problem, by only providing parts as \"given\", and some to \"find\".\n",
    "Should take 5-7.5 minutes to solve if you know the answer. Will be given to fellow student.\n",
    "\n",
    "Get inspired bu the exercises provided."
   ]
  }
 ],
 "metadata": {
  "language_info": {
   "name": "python"
  },
  "orig_nbformat": 4
 },
 "nbformat": 4,
 "nbformat_minor": 2
}
