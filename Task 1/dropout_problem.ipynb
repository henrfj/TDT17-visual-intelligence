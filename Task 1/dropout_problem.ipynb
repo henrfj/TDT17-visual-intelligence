{
 "cells": [
  {
   "cell_type": "markdown",
   "metadata": {},
   "source": [
    "## Try yourself: Effect of adding dropout layers:\n",
    "\n",
    "In this short notebook, we will look at the effects of adding dropout to a simple classification problem. Howver, this notebook will not run correctly, until you fill in the areas that says \"TODO\" of the code. Often the TODO's offer hints / explaination of what you are suppposed to do.\n",
    "\n",
    "- For simplicity, just use \"ctrl+f\" to find all \"TODOs\" in the text.\n",
    "\n",
    "If you get stuck, read up on the the paper, or look at Prof. Brownlee's example:\n",
    "\n",
    "Paper on dropout.\n",
    "- https://www.cs.toronto.edu/~rsalakhu/papers/srivastava14a.pdf\n",
    "\n",
    "This exercise is inspired by the work of Prof. Jason Brownlee:\n",
    "- https://machinelearningmastery.com/dropout-regularization-deep-learning-models-keras/"
   ]
  },
  {
   "cell_type": "code",
   "execution_count": 1,
   "metadata": {},
   "outputs": [],
   "source": [
    "# Requirements\n",
    "import pandas as pd\n",
    "from tensorflow.keras.callbacks import Callback\n",
    "import matplotlib.pyplot as plt\n",
    "from tensorflow.keras.models import Sequential\n",
    "from tensorflow.keras.layers import Dense\n",
    "from tensorflow.keras.optimizers import SGD\n",
    "from sklearn.preprocessing import LabelEncoder\n",
    "from sklearn.preprocessing import StandardScaler\n"
   ]
  },
  {
   "cell_type": "markdown",
   "metadata": {},
   "source": [
    "### The dataset \n",
    "\n",
    "The dataset is from UCI: https://archive.ics.uci.edu/ml/datasets/Connectionist+Bench+(Sonar,+Mines+vs.+Rocks), and is a collection of raw sonar data. Sonar was bounced of the surface of rocks, as well as metal cylinders, and our task is to classify the two. \n",
    "\n",
    "Each datapoint is an array of 60 sonar reading, in the range 0-1, representing the energy of which the sonar reading was recorded. Not a trivial task!"
   ]
  },
  {
   "cell_type": "code",
   "execution_count": 7,
   "metadata": {},
   "outputs": [
    {
     "name": "stdout",
     "output_type": "stream",
     "text": [
      "Training set shape: (208, 60) \tTraining labels shape: (208,)\n"
     ]
    }
   ],
   "source": [
    "# load dataset\n",
    "dataframe = pd.read_csv(\"sonar.csv\", header=None)\n",
    "dataset = dataframe.values\n",
    "# split into input (X) and output (Y) variables\n",
    "x_train = dataset[:,0:60].astype(float)\n",
    "y_train = dataset[:,60]\n",
    "# Encode class values as integers\n",
    "encoder = LabelEncoder()\n",
    "encoder.fit(y_train)\n",
    "y_train = encoder.transform(y_train)\n",
    "# Standard scale\n",
    "std_scale = StandardScaler().fit(x_train)\n",
    "x_scaled = std_scale.transform(x_train)\n",
    "# Print the shapes\n",
    "print(\"Training set shape:\", x_scaled.shape, \"\\tTraining labels shape:\", y_train.shape)"
   ]
  },
  {
   "cell_type": "markdown",
   "metadata": {},
   "source": [
    "**Some util functions, don't really focus too much on these**"
   ]
  },
  {
   "cell_type": "code",
   "execution_count": 8,
   "metadata": {},
   "outputs": [],
   "source": [
    "\"\"\" Some util functions \"\"\"\n",
    "class PrintDot(Callback):\n",
    "    \"\"\"Replaces the normal verbose with a simple dot printer.\"\"\"\n",
    "    def on_epoch_end(self, epoch, logs):\n",
    "        if epoch % 100 == 0: print('')\n",
    "        print('.', end='')\n",
    "\n",
    "def plot_history(hist):\n",
    "    \"\"\"Plots the loss and val loss of a training history (pandas format)\"\"\"\n",
    "    plt.figure()\n",
    "    plt.xlabel('Epoch')\n",
    "    plt.ylabel('Loss')\n",
    "    plt.plot(hist['epoch'], hist['loss'], label='Train Error')\n",
    "    plt.plot(hist['epoch'], hist['val_loss'], label = 'Val Error')\n",
    "    plt.legend()"
   ]
  },
  {
   "cell_type": "markdown",
   "metadata": {},
   "source": [
    "### Baseline model\n",
    "\n",
    "Before doing anything with dropout layers, lets create a baseline model to compare to. \n",
    "\n",
    "The model is a basic sequential model with two dense layers, and one output layer with a .... activation function for classification.\n",
    "\n",
    "The loss will be a binary cross entropy."
   ]
  },
  {
   "cell_type": "code",
   "execution_count": 12,
   "metadata": {},
   "outputs": [],
   "source": [
    "# Create baseline_model\n",
    "baseline_model = Sequential()\n",
    "baseline_model.add(Dense(60, input_shape=(60,), activation='relu'))\n",
    "baseline_model.add(Dense(30,  activation='relu'))\n",
    "# TODO-START: What activation function should we use for binary classifcation?\n",
    "baseline_model.add(Dense(1, activation=...))\n",
    "# TODO-END.\n",
    "# Compile baseline_model\n",
    "sgd = SGD(learning_rate=0.1, momentum=0.9)\n",
    "baseline_model.compile(loss='binary_crossentropy', optimizer=sgd, metrics=['accuracy'])"
   ]
  },
  {
   "cell_type": "markdown",
   "metadata": {},
   "source": [
    "**Training** and plotting the results."
   ]
  },
  {
   "cell_type": "code",
   "execution_count": 13,
   "metadata": {},
   "outputs": [
    {
     "name": "stdout",
     "output_type": "stream",
     "text": [
      "\n",
      "...................................................................................................."
     ]
    },
    {
     "data": {
      "text/html": [
       "<div>\n",
       "<style scoped>\n",
       "    .dataframe tbody tr th:only-of-type {\n",
       "        vertical-align: middle;\n",
       "    }\n",
       "\n",
       "    .dataframe tbody tr th {\n",
       "        vertical-align: top;\n",
       "    }\n",
       "\n",
       "    .dataframe thead th {\n",
       "        text-align: right;\n",
       "    }\n",
       "</style>\n",
       "<table border=\"1\" class=\"dataframe\">\n",
       "  <thead>\n",
       "    <tr style=\"text-align: right;\">\n",
       "      <th></th>\n",
       "      <th>loss</th>\n",
       "      <th>accuracy</th>\n",
       "      <th>val_loss</th>\n",
       "      <th>val_accuracy</th>\n",
       "      <th>epoch</th>\n",
       "    </tr>\n",
       "  </thead>\n",
       "  <tbody>\n",
       "    <tr>\n",
       "      <th>99</th>\n",
       "      <td>0.000086</td>\n",
       "      <td>1.0</td>\n",
       "      <td>0.299625</td>\n",
       "      <td>0.809524</td>\n",
       "      <td>99</td>\n",
       "    </tr>\n",
       "  </tbody>\n",
       "</table>\n",
       "</div>"
      ],
      "text/plain": [
       "        loss  accuracy  val_loss  val_accuracy  epoch\n",
       "99  0.000086       1.0  0.299625      0.809524     99"
      ]
     },
     "metadata": {},
     "output_type": "display_data"
    },
    {
     "data": {
      "image/png": "[encoded data removed]",
      "text/plain": [
       "<Figure size 432x288 with 1 Axes>"
      ]
     },
     "metadata": {
      "needs_background": "light"
     },
     "output_type": "display_data"
    }
   ],
   "source": [
    "history = baseline_model.fit(x=x_scaled, y=y_train, \n",
    "    epochs=100,\n",
    "    shuffle=True,\n",
    "    validation_split=0.1,\n",
    "    verbose=0,\n",
    "    callbacks=[PrintDot()])\n",
    "\n",
    "hist = pd.DataFrame(history.history)\n",
    "hist['epoch'] = history.epoch\n",
    "display(hist.tail(1))\n",
    "\n",
    "plot_history(hist)"
   ]
  },
  {
   "cell_type": "markdown",
   "metadata": {},
   "source": [
    "**You should expect a result** like this: with smooth loss-curves, and maybe you can spot how the val loss increases as we slowly overfit the model more and more.\n",
    "\n",
    "![Baseline](images/baseline.png)"
   ]
  },
  {
   "cell_type": "markdown",
   "metadata": {},
   "source": [
    "**As expected**, over time our model will begin overfitting, even if the train loss is constant/decreasing, the validation error stagnate / increase.\n",
    "The training accuracy should be around 100%, with a validation accuracy in the range 70-90%.\n",
    "\n",
    "### Adding dropout to input layer\n",
    "\n",
    "Now we will try to see the effect of adding a dropout layer - to the input layer! \n",
    "\n",
    "Dropout in keras works like this: adding a \"dropout layer\" will make the previous layer drop nodes at random. \n",
    "- So if you want to drop inputs, we need to add dropout as our first layer in the sequential model.\n"
   ]
  },
  {
   "cell_type": "code",
   "execution_count": 14,
   "metadata": {},
   "outputs": [
    {
     "name": "stdout",
     "output_type": "stream",
     "text": [
      "\n",
      "...................................................................................................."
     ]
    },
    {
     "data": {
      "text/html": [
       "<div>\n",
       "<style scoped>\n",
       "    .dataframe tbody tr th:only-of-type {\n",
       "        vertical-align: middle;\n",
       "    }\n",
       "\n",
       "    .dataframe tbody tr th {\n",
       "        vertical-align: top;\n",
       "    }\n",
       "\n",
       "    .dataframe thead th {\n",
       "        text-align: right;\n",
       "    }\n",
       "</style>\n",
       "<table border=\"1\" class=\"dataframe\">\n",
       "  <thead>\n",
       "    <tr style=\"text-align: right;\">\n",
       "      <th></th>\n",
       "      <th>loss</th>\n",
       "      <th>accuracy</th>\n",
       "      <th>val_loss</th>\n",
       "      <th>val_accuracy</th>\n",
       "      <th>epoch</th>\n",
       "    </tr>\n",
       "  </thead>\n",
       "  <tbody>\n",
       "    <tr>\n",
       "      <th>99</th>\n",
       "      <td>0.012008</td>\n",
       "      <td>0.994652</td>\n",
       "      <td>0.008295</td>\n",
       "      <td>1.0</td>\n",
       "      <td>99</td>\n",
       "    </tr>\n",
       "  </tbody>\n",
       "</table>\n",
       "</div>"
      ],
      "text/plain": [
       "        loss  accuracy  val_loss  val_accuracy  epoch\n",
       "99  0.012008  0.994652  0.008295           1.0     99"
      ]
     },
     "metadata": {},
     "output_type": "display_data"
    },
    {
     "data": {
      "image/png": "[encoded data removed]",
      "text/plain": [
       "<Figure size 432x288 with 1 Axes>"
      ]
     },
     "metadata": {
      "needs_background": "light"
     },
     "output_type": "display_data"
    }
   ],
   "source": [
    "from tensorflow.keras.layers import Dropout\n",
    "\n",
    "# Define model\n",
    "p = 0.1 # Dropout rate\n",
    "model = Sequential()\n",
    "# TODO-START: add a dropout layer to the input layer. \n",
    "# HINT: remember input_shape=(60,)\n",
    "# HINT2: look at https://keras.io/api/layers/regularization_layers/dropout/\n",
    "...\n",
    "...\n",
    "...\n",
    "# TODO-END.\n",
    "model.add(Dense(60, activation='relu'))\n",
    "model.add(Dense(30, activation='relu'))\n",
    "model.add(Dense(1, activation='sigmoid'))\n",
    "# Compile model\n",
    "sgd = SGD(learning_rate=0.1, momentum=0.9)\n",
    "model.compile(loss='binary_crossentropy', optimizer=sgd, metrics=['accuracy'])\n",
    "\n",
    "# Train model\n",
    "history = model.fit(x=x_scaled, y=y_train, \n",
    "    epochs=100,\n",
    "    shuffle=True,\n",
    "    validation_split=0.1,\n",
    "    verbose=0,\n",
    "    callbacks=[PrintDot()])\n",
    "\n",
    "\n",
    "hist = pd.DataFrame(history.history)\n",
    "hist['epoch'] = history.epoch\n",
    "display(hist.tail(1))\n",
    "plot_history(hist)"
   ]
  },
  {
   "cell_type": "markdown",
   "metadata": {},
   "source": [
    "**IF** you have done it correctly you should see an output something like this:\n",
    "\n",
    "![Input](images/Dropout%20to%20input.png)\n",
    "\n",
    "\n",
    "**Right away** we should notice that both the training loss and validation loss is a lot more \"spikey\":\n",
    "\n",
    "\n",
    "TODO: EXPLAIN why you think we see the spikey pattern now that we use dropout on the input data?\n",
    "\n",
    "### Add dropout layers to hidden layers\n",
    "\n",
    "Next we will try to add dropout layers in all hidden layers."
   ]
  },
  {
   "cell_type": "code",
   "execution_count": 15,
   "metadata": {},
   "outputs": [
    {
     "name": "stdout",
     "output_type": "stream",
     "text": [
      "\n",
      "...................................................................................................."
     ]
    },
    {
     "data": {
      "text/html": [
       "<div>\n",
       "<style scoped>\n",
       "    .dataframe tbody tr th:only-of-type {\n",
       "        vertical-align: middle;\n",
       "    }\n",
       "\n",
       "    .dataframe tbody tr th {\n",
       "        vertical-align: top;\n",
       "    }\n",
       "\n",
       "    .dataframe thead th {\n",
       "        text-align: right;\n",
       "    }\n",
       "</style>\n",
       "<table border=\"1\" class=\"dataframe\">\n",
       "  <thead>\n",
       "    <tr style=\"text-align: right;\">\n",
       "      <th></th>\n",
       "      <th>loss</th>\n",
       "      <th>accuracy</th>\n",
       "      <th>val_loss</th>\n",
       "      <th>val_accuracy</th>\n",
       "      <th>epoch</th>\n",
       "    </tr>\n",
       "  </thead>\n",
       "  <tbody>\n",
       "    <tr>\n",
       "      <th>99</th>\n",
       "      <td>0.000151</td>\n",
       "      <td>1.0</td>\n",
       "      <td>0.703509</td>\n",
       "      <td>0.857143</td>\n",
       "      <td>99</td>\n",
       "    </tr>\n",
       "  </tbody>\n",
       "</table>\n",
       "</div>"
      ],
      "text/plain": [
       "        loss  accuracy  val_loss  val_accuracy  epoch\n",
       "99  0.000151       1.0  0.703509      0.857143     99"
      ]
     },
     "metadata": {},
     "output_type": "display_data"
    },
    {
     "data": {
      "image/png": "[encoded data removed]",
      "text/plain": [
       "<Figure size 432x288 with 1 Axes>"
      ]
     },
     "metadata": {
      "needs_background": "light"
     },
     "output_type": "display_data"
    }
   ],
   "source": [
    "from tensorflow.keras.layers import Dropout\n",
    "\n",
    "# Define model\n",
    "p = 0.1 # Dropout rate\n",
    "model = Sequential()\n",
    "model.add(Dense(60, input_shape=(60,), activation='relu'))\n",
    "# TODO-START: Add dropout layer here\n",
    "...\n",
    "# TODO-END.\n",
    "model.add(Dense(30, activation='relu'))\n",
    "# TODO-START: Add dropout layer here\n",
    "...\n",
    "# TODO-END.\n",
    "model.add(Dense(1, activation='sigmoid'))\n",
    "\n",
    "# Compile model\n",
    "sgd = SGD(learning_rate=0.1, momentum=0.9)\n",
    "model.compile(loss='binary_crossentropy', optimizer=sgd, metrics=['accuracy'])\n",
    "\n",
    "# Train model\n",
    "history = model.fit(x=x_scaled, y=y_train, \n",
    "    epochs=100,\n",
    "    shuffle=True,\n",
    "    validation_split=0.1,\n",
    "    verbose=0,\n",
    "    callbacks=[PrintDot()])\n",
    "\n",
    "\n",
    "hist = pd.DataFrame(history.history)\n",
    "hist['epoch'] = history.epoch\n",
    "display(hist.tail(1))\n",
    "plot_history(hist)"
   ]
  },
  {
   "cell_type": "markdown",
   "metadata": {},
   "source": [
    "**Again** we notice the same spikey patterns, even as all input data is available for all training samples in this case.\n",
    "\n",
    "TODO: Why do you think we get all these spikes now, even if we do not drop any of the input data?"
   ]
  },
  {
   "cell_type": "markdown",
   "metadata": {},
   "source": [
    "### Unlocking the full potential of dropout\n",
    "\n",
    "First of all we will limit the norms of the weights in the dense layers, to 3 - this is due to a suggestion in the [paper](https://www.cs.toronto.edu/~rsalakhu/papers/srivastava14a.pdf).\n",
    "- This is done to counter some of the most extreme \"spikey\" behaviour in the net. If a node has an extremely large weight attached to it, it means it relies / is relied upon a lot, and will most likely cause a large spike when dropped.\n",
    "\n",
    "Second, we will increase the net size. A problem with dropout is that we are always training with a net that is reduced by 10-50% in size (depending on dropout rate), and so we should increase the net with the same amount to get as a precise net architecture.\n",
    "\n",
    "We will also use dropout on both visible and hidden layers."
   ]
  },
  {
   "cell_type": "code",
   "execution_count": 16,
   "metadata": {},
   "outputs": [
    {
     "name": "stdout",
     "output_type": "stream",
     "text": [
      "\n",
      "...................................................................................................."
     ]
    },
    {
     "data": {
      "text/html": [
       "<div>\n",
       "<style scoped>\n",
       "    .dataframe tbody tr th:only-of-type {\n",
       "        vertical-align: middle;\n",
       "    }\n",
       "\n",
       "    .dataframe tbody tr th {\n",
       "        vertical-align: top;\n",
       "    }\n",
       "\n",
       "    .dataframe thead th {\n",
       "        text-align: right;\n",
       "    }\n",
       "</style>\n",
       "<table border=\"1\" class=\"dataframe\">\n",
       "  <thead>\n",
       "    <tr style=\"text-align: right;\">\n",
       "      <th></th>\n",
       "      <th>loss</th>\n",
       "      <th>accuracy</th>\n",
       "      <th>val_loss</th>\n",
       "      <th>val_accuracy</th>\n",
       "      <th>epoch</th>\n",
       "    </tr>\n",
       "  </thead>\n",
       "  <tbody>\n",
       "    <tr>\n",
       "      <th>99</th>\n",
       "      <td>0.095551</td>\n",
       "      <td>0.957219</td>\n",
       "      <td>0.21563</td>\n",
       "      <td>0.904762</td>\n",
       "      <td>99</td>\n",
       "    </tr>\n",
       "  </tbody>\n",
       "</table>\n",
       "</div>"
      ],
      "text/plain": [
       "        loss  accuracy  val_loss  val_accuracy  epoch\n",
       "99  0.095551  0.957219   0.21563      0.904762     99"
      ]
     },
     "metadata": {},
     "output_type": "display_data"
    },
    {
     "data": {
      "image/png": "[encoded data removed]",
      "text/plain": [
       "<Figure size 432x288 with 1 Axes>"
      ]
     },
     "metadata": {
      "needs_background": "light"
     },
     "output_type": "display_data"
    }
   ],
   "source": [
    "from tensorflow.keras.layers import Dropout\n",
    "from tensorflow.keras.constraints import MaxNorm\n",
    "\n",
    "\n",
    "# Define model\n",
    "p = 0.2     # Dropout rate\n",
    "max_norm=4  # Max weight norm\n",
    "model = Sequential()\n",
    "model.add(Dropout(p, input_shape=(60,)))\n",
    "# TODO: Add the MAXNORM constraint to the dense layer\n",
    "model.add(Dense(60, activation='relu', kernel_constraint=...))\n",
    "model.add(Dropout(p))\n",
    "# TODO: Add the MAXNORM constraint to the dense layer\n",
    "model.add(Dense(60, activation='relu', kernel_constraint=...))\n",
    "model.add(Dropout(p))\n",
    "model.add(Dense(1, activation='sigmoid'))\n",
    "\n",
    "# Compile model\n",
    "sgd = SGD(learning_rate=0.1, momentum=0.9)\n",
    "model.compile(loss='binary_crossentropy', optimizer=sgd, metrics=['accuracy'])\n",
    "\n",
    "# Train model\n",
    "history = model.fit(x=x_scaled, y=y_train, \n",
    "    epochs=100,\n",
    "    shuffle=True,\n",
    "    validation_split=0.1,\n",
    "    verbose=0,\n",
    "    callbacks=[PrintDot()])\n",
    "\n",
    "\n",
    "hist = pd.DataFrame(history.history)\n",
    "hist['epoch'] = history.epoch\n",
    "display(hist.tail(1))\n",
    "plot_history(hist)"
   ]
  },
  {
   "cell_type": "markdown",
   "metadata": {},
   "source": [
    "**Still no impressed**?\n",
    "- The dropout layer will cause a very \"spikey\" behaviour in loss performance, and sometimes the model in the final iteration will not impress with its val_loss.\n",
    "- However, it is evident that if we were to \"stop the model training\" at certain point in the training, we would get a model with both low validation loss and training loss.\n",
    "- This can be done using a callback function in keras (called \"model checkpoint\"), which will retrieve the model with the best validation accuracy.\n",
    "    - Alternatively use the callback \"early stopping\" which has a function to restore the best weights to the current model\n",
    "\n",
    "### Early stopping / weight retrieval"
   ]
  },
  {
   "cell_type": "code",
   "execution_count": 35,
   "metadata": {},
   "outputs": [
    {
     "name": "stdout",
     "output_type": "stream",
     "text": [
      "\n",
      "..................Restoring model weights from the end of the best epoch: 8.\n",
      "Epoch 18: early stopping\n"
     ]
    },
    {
     "data": {
      "text/html": [
       "<div>\n",
       "<style scoped>\n",
       "    .dataframe tbody tr th:only-of-type {\n",
       "        vertical-align: middle;\n",
       "    }\n",
       "\n",
       "    .dataframe tbody tr th {\n",
       "        vertical-align: top;\n",
       "    }\n",
       "\n",
       "    .dataframe thead th {\n",
       "        text-align: right;\n",
       "    }\n",
       "</style>\n",
       "<table border=\"1\" class=\"dataframe\">\n",
       "  <thead>\n",
       "    <tr style=\"text-align: right;\">\n",
       "      <th></th>\n",
       "      <th>loss</th>\n",
       "      <th>accuracy</th>\n",
       "      <th>val_loss</th>\n",
       "      <th>val_accuracy</th>\n",
       "      <th>epoch</th>\n",
       "    </tr>\n",
       "  </thead>\n",
       "  <tbody>\n",
       "    <tr>\n",
       "      <th>17</th>\n",
       "      <td>0.140995</td>\n",
       "      <td>0.962567</td>\n",
       "      <td>0.135012</td>\n",
       "      <td>0.952381</td>\n",
       "      <td>17</td>\n",
       "    </tr>\n",
       "  </tbody>\n",
       "</table>\n",
       "</div>"
      ],
      "text/plain": [
       "        loss  accuracy  val_loss  val_accuracy  epoch\n",
       "17  0.140995  0.962567  0.135012      0.952381     17"
      ]
     },
     "metadata": {},
     "output_type": "display_data"
    },
    {
     "data": {
      "image/png": "[encoded data removed]",
      "text/plain": [
       "<Figure size 432x288 with 1 Axes>"
      ]
     },
     "metadata": {
      "needs_background": "light"
     },
     "output_type": "display_data"
    }
   ],
   "source": [
    "from tensorflow.keras.callbacks import ModelCheckpoint \n",
    "from tensorflow.keras.callbacks import EarlyStopping\n",
    "\n",
    "# Callback 1: the model checkpoint - saves a model to be retrieved later\n",
    "mcp_save = ModelCheckpoint('.best_model.hdf5', save_best_only=True, monitor='val_loss', mode='min')\n",
    "# Callback 2: Stops the training if the val loss climbs over time, and saves best weigths to model.\n",
    "early_stopping_monitor = EarlyStopping(\n",
    "    monitor='val_loss', # What should be monitored by the stopper?\n",
    "    min_delta=0,    # What is concidered a drop in validation data performance?\n",
    "    patience=20,    # How long the stopper will wait before calling off the training?\n",
    "    verbose=1,      #\n",
    "    mode='auto',\n",
    "    baseline=None,  # Could add baseline to compare with\n",
    "    restore_best_weights=True # Restore best weights with regard to validation data, to the model\n",
    ")\n",
    "\n",
    "# Define model\n",
    "p = 0.2 # Dropout rate\n",
    "model = Sequential()\n",
    "model.add(Dropout(p, input_shape=(60,)))\n",
    "model.add(Dense(60, activation='relu', kernel_constraint=MaxNorm(4)))\n",
    "model.add(Dropout(p))\n",
    "model.add(Dense(60, activation='relu', kernel_constraint=MaxNorm(4)))\n",
    "model.add(Dropout(p))\n",
    "model.add(Dense(1, activation='sigmoid'))\n",
    "\n",
    "# Compile model\n",
    "sgd = SGD(learning_rate=0.1, momentum=0.9)\n",
    "model.compile(loss='binary_crossentropy', optimizer=sgd, metrics=['accuracy'])\n",
    "\n",
    "# Train model\n",
    "history = model.fit(x=x_scaled, y=y_train, \n",
    "    epochs=100,\n",
    "    shuffle=True,\n",
    "    validation_split=0.1,\n",
    "    verbose=0,\n",
    "    # TODO: Add one or both of our new callback functions defined above\n",
    "    callbacks=[PrintDot(), ..., ...])\n",
    "\n",
    "\n",
    "hist = pd.DataFrame(history.history)\n",
    "hist['epoch'] = history.epoch\n",
    "display(hist.tail(1))\n",
    "plot_history(hist)"
   ]
  },
  {
   "cell_type": "code",
   "execution_count": null,
   "metadata": {},
   "outputs": [],
   "source": []
  }
 ],
 "metadata": {
  "kernelspec": {
   "display_name": "Python 3.7.8 64-bit",
   "language": "python",
   "name": "python3"
  },
  "language_info": {
   "codemirror_mode": {
    "name": "ipython",
    "version": 3
   },
   "file_extension": ".py",
   "mimetype": "text/x-python",
   "name": "python",
   "nbconvert_exporter": "python",
   "pygments_lexer": "ipython3",
   "version": "3.7.8"
  },
  "orig_nbformat": 4,
  "vscode": {
   "interpreter": {
    "hash": "9f4bcb5483d3797e4ccb7ceb460a740ac9f20da3efed712a7aa712a18b8eadf8"
   }
  }
 },
 "nbformat": 4,
 "nbformat_minor": 2
}
