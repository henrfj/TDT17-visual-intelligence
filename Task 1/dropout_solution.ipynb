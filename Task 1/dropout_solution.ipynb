{
 "cells": [
  {
   "cell_type": "markdown",
   "metadata": {},
   "source": [
    "## Effect of adding dropout layers:\n",
    "\n",
    "In this short notebook, we will look at the effects of adding dropout to a simple classification problem.\n",
    "\n",
    "Paper on dropout.\n",
    "- https://www.cs.toronto.edu/~rsalakhu/papers/srivastava14a.pdf\n",
    "\n",
    "This exercise is inspired by the work of Prof. Jason Brownlee:\n",
    "- https://machinelearningmastery.com/dropout-regularization-deep-learning-models-keras/"
   ]
  },
  {
   "cell_type": "code",
   "execution_count": 8,
   "metadata": {},
   "outputs": [],
   "source": [
    "# Requirements\n",
    "import pandas as pd\n",
    "from tensorflow.keras.callbacks import Callback\n",
    "import matplotlib.pyplot as plt\n",
    "from tensorflow.keras.models import Sequential\n",
    "from tensorflow.keras.layers import Dense\n",
    "from tensorflow.keras.optimizers import SGD\n",
    "from sklearn.preprocessing import LabelEncoder\n",
    "from sklearn.preprocessing import StandardScaler\n"
   ]
  },
  {
   "cell_type": "markdown",
   "metadata": {},
   "source": [
    "### The dataset \n",
    "\n",
    "The dataset is from UCI: https://archive.ics.uci.edu/ml/datasets/Connectionist+Bench+(Sonar,+Mines+vs.+Rocks), and is a collection of raw sonar data. Sonar was bounced of the surface of rocks, as well as metal cylinders, and our task is to classify the two. \n",
    "\n",
    "Each datapoint is an array of 60 sonar reading, in the range 0-1, representing the energy of which the sonar reading was recorded. Not a trivial task!"
   ]
  },
  {
   "cell_type": "code",
   "execution_count": 2,
   "metadata": {},
   "outputs": [
    {
     "name": "stdout",
     "output_type": "stream",
     "text": [
      "(208, 60) (208,)\n"
     ]
    }
   ],
   "source": [
    "# load dataset\n",
    "dataframe = pd.read_csv(\"sonar.csv\", header=None)\n",
    "dataset = dataframe.values\n",
    "# split into input (X) and output (Y) variables\n",
    "x_train = dataset[:,0:60].astype(float)\n",
    "y_train = dataset[:,60]\n",
    "# Encode class values as integers\n",
    "encoder = LabelEncoder()\n",
    "encoder.fit(y_train)\n",
    "y_train = encoder.transform(y_train)\n",
    "# Standard scale\n",
    "std_scale = StandardScaler().fit(x_train)\n",
    "x_scaled = std_scale.transform(x_train)\n",
    "# Print the shapes\n",
    "print(x_scaled.shape, y_train.shape)"
   ]
  },
  {
   "cell_type": "markdown",
   "metadata": {},
   "source": [
    "**Some util functions, don't really focus too much on these**"
   ]
  },
  {
   "cell_type": "code",
   "execution_count": 16,
   "metadata": {},
   "outputs": [],
   "source": [
    "\"\"\" Some util functions \"\"\"\n",
    "class PrintDot(Callback):\n",
    "    def on_epoch_end(self, epoch, logs):\n",
    "        if epoch % 100 == 0: print('')\n",
    "        print('.', end='')\n",
    "\n",
    "def plot_history(hist):\n",
    "    plt.figure()\n",
    "    plt.xlabel('Epoch')\n",
    "    plt.ylabel('Loss')\n",
    "    plt.plot(hist['epoch'], hist['loss'], label='Train Error')\n",
    "    plt.plot(hist['epoch'], hist['val_loss'], label = 'Val Error')\n",
    "    plt.legend()"
   ]
  },
  {
   "cell_type": "markdown",
   "metadata": {},
   "source": [
    "### Baseline model\n",
    "\n",
    "Before doing anything with dropout layers, lets create a baseline model to compare to. \n",
    "\n",
    "The model is a basic sequential model with two dense layers, and one output layer with a sigmoid AF for classification.\n",
    "\n",
    "The loss will be a binary cross entropy."
   ]
  },
  {
   "cell_type": "code",
   "execution_count": 17,
   "metadata": {},
   "outputs": [],
   "source": [
    "# Create baseline_model\n",
    "baseline_model = Sequential()\n",
    "baseline_model.add(Dense(60, input_shape=(60,), activation='relu'))\n",
    "baseline_model.add(Dense(30,  activation='relu'))\n",
    "baseline_model.add(Dense(1, activation='sigmoid'))\n",
    "# Compile baseline_model\n",
    "sgd = SGD(learning_rate=0.1, momentum=0.9)\n",
    "baseline_model.compile(loss='binary_crossentropy', optimizer=sgd, metrics=['accuracy'])"
   ]
  },
  {
   "cell_type": "markdown",
   "metadata": {},
   "source": [
    "**Training** and plotting the results."
   ]
  },
  {
   "cell_type": "code",
   "execution_count": 18,
   "metadata": {},
   "outputs": [
    {
     "name": "stdout",
     "output_type": "stream",
     "text": [
      "\n",
      "...................................................................................................."
     ]
    },
    {
     "data": {
      "text/html": [
       "<div>\n",
       "<style scoped>\n",
       "    .dataframe tbody tr th:only-of-type {\n",
       "        vertical-align: middle;\n",
       "    }\n",
       "\n",
       "    .dataframe tbody tr th {\n",
       "        vertical-align: top;\n",
       "    }\n",
       "\n",
       "    .dataframe thead th {\n",
       "        text-align: right;\n",
       "    }\n",
       "</style>\n",
       "<table border=\"1\" class=\"dataframe\">\n",
       "  <thead>\n",
       "    <tr style=\"text-align: right;\">\n",
       "      <th></th>\n",
       "      <th>loss</th>\n",
       "      <th>accuracy</th>\n",
       "      <th>val_loss</th>\n",
       "      <th>val_accuracy</th>\n",
       "      <th>epoch</th>\n",
       "    </tr>\n",
       "  </thead>\n",
       "  <tbody>\n",
       "    <tr>\n",
       "      <th>99</th>\n",
       "      <td>0.000102</td>\n",
       "      <td>1.0</td>\n",
       "      <td>0.154465</td>\n",
       "      <td>0.904762</td>\n",
       "      <td>99</td>\n",
       "    </tr>\n",
       "  </tbody>\n",
       "</table>\n",
       "</div>"
      ],
      "text/plain": [
       "        loss  accuracy  val_loss  val_accuracy  epoch\n",
       "99  0.000102       1.0  0.154465      0.904762     99"
      ]
     },
     "metadata": {},
     "output_type": "display_data"
    },
    {
     "data": {
      "image/png": "[encoded data removed]",
      "text/plain": [
       "<Figure size 432x288 with 1 Axes>"
      ]
     },
     "metadata": {
      "needs_background": "light"
     },
     "output_type": "display_data"
    }
   ],
   "source": [
    "history = baseline_model.fit(x=x_scaled, y=y_train, \n",
    "    epochs=100,\n",
    "    shuffle=True,\n",
    "    validation_split=0.1,\n",
    "    verbose=0,\n",
    "    callbacks=[PrintDot()])\n",
    "\n",
    "hist = pd.DataFrame(history.history)\n",
    "hist['epoch'] = history.epoch\n",
    "display(hist.tail(1))\n",
    "\n",
    "plot_history(hist)"
   ]
  },
  {
   "cell_type": "markdown",
   "metadata": {},
   "source": [
    "**As expected**, over time our model will begin overfitting, making the train error drop further, but the validation error stagnate / increase.\n",
    "But the training accuracy should be around 100%, with a validation accuracy in the range 70-90%.\n",
    "\n",
    "### Adding dropout to input layer\n",
    "\n",
    "Now we will try to see the effect of adding a dropout layer - to the input layer! \n",
    "\n",
    "Dropout in keras works like this: adding a \"dropout layer\" will make the previous layer drop nodes at random. \n",
    "- So if you want to drop inputs, we need to add dropout as our first layer in the sequential model.\n"
   ]
  },
  {
   "cell_type": "code",
   "execution_count": 27,
   "metadata": {},
   "outputs": [
    {
     "name": "stdout",
     "output_type": "stream",
     "text": [
      "\n",
      "...................................................................................................."
     ]
    },
    {
     "data": {
      "text/html": [
       "<div>\n",
       "<style scoped>\n",
       "    .dataframe tbody tr th:only-of-type {\n",
       "        vertical-align: middle;\n",
       "    }\n",
       "\n",
       "    .dataframe tbody tr th {\n",
       "        vertical-align: top;\n",
       "    }\n",
       "\n",
       "    .dataframe thead th {\n",
       "        text-align: right;\n",
       "    }\n",
       "</style>\n",
       "<table border=\"1\" class=\"dataframe\">\n",
       "  <thead>\n",
       "    <tr style=\"text-align: right;\">\n",
       "      <th></th>\n",
       "      <th>loss</th>\n",
       "      <th>accuracy</th>\n",
       "      <th>val_loss</th>\n",
       "      <th>val_accuracy</th>\n",
       "      <th>epoch</th>\n",
       "    </tr>\n",
       "  </thead>\n",
       "  <tbody>\n",
       "    <tr>\n",
       "      <th>99</th>\n",
       "      <td>0.001481</td>\n",
       "      <td>1.0</td>\n",
       "      <td>0.293163</td>\n",
       "      <td>0.952381</td>\n",
       "      <td>99</td>\n",
       "    </tr>\n",
       "  </tbody>\n",
       "</table>\n",
       "</div>"
      ],
      "text/plain": [
       "        loss  accuracy  val_loss  val_accuracy  epoch\n",
       "99  0.001481       1.0  0.293163      0.952381     99"
      ]
     },
     "metadata": {},
     "output_type": "display_data"
    },
    {
     "data": {
      "image/png": "[encoded data removed]",
      "text/plain": [
       "<Figure size 432x288 with 1 Axes>"
      ]
     },
     "metadata": {
      "needs_background": "light"
     },
     "output_type": "display_data"
    }
   ],
   "source": [
    "from tensorflow.keras.layers import Dropout\n",
    "\n",
    "# Define model\n",
    "p = 0.1 # Dropout rate\n",
    "model = Sequential()\n",
    "model.add(Dropout(p, input_shape=(60,)))\n",
    "model.add(Dense(60, activation='relu'))\n",
    "model.add(Dense(30, activation='relu'))\n",
    "model.add(Dense(1, activation='sigmoid'))\n",
    "# Compile model\n",
    "sgd = SGD(learning_rate=0.1, momentum=0.9)\n",
    "model.compile(loss='binary_crossentropy', optimizer=sgd, metrics=['accuracy'])\n",
    "\n",
    "# Train model\n",
    "history = model.fit(x=x_scaled, y=y_train, \n",
    "    epochs=100,\n",
    "    shuffle=True,\n",
    "    validation_split=0.1,\n",
    "    verbose=0,\n",
    "    callbacks=[PrintDot()])\n",
    "\n",
    "\n",
    "hist = pd.DataFrame(history.history)\n",
    "hist['epoch'] = history.epoch\n",
    "display(hist.tail(1))\n",
    "plot_history(hist)"
   ]
  },
  {
   "cell_type": "markdown",
   "metadata": {},
   "source": [
    "**Right away** we should notice that both the training loss and validation loss is a lot more \"spikey\":\n",
    "\n",
    "This is because: when the model start relying too much on one/some of the 60 inputs, and its suddenly drops, it will have a higher loss for that training sample. Eventually the model will learn to use several inputs and not rely solely on one/few. \n",
    "\n",
    "### Add dropout layers to hidden layers\n",
    "\n",
    "Next we will try to add dropout layers in all hidden layers."
   ]
  },
  {
   "cell_type": "code",
   "execution_count": 26,
   "metadata": {},
   "outputs": [
    {
     "name": "stdout",
     "output_type": "stream",
     "text": [
      "\n",
      "...................................................................................................."
     ]
    },
    {
     "data": {
      "text/html": [
       "<div>\n",
       "<style scoped>\n",
       "    .dataframe tbody tr th:only-of-type {\n",
       "        vertical-align: middle;\n",
       "    }\n",
       "\n",
       "    .dataframe tbody tr th {\n",
       "        vertical-align: top;\n",
       "    }\n",
       "\n",
       "    .dataframe thead th {\n",
       "        text-align: right;\n",
       "    }\n",
       "</style>\n",
       "<table border=\"1\" class=\"dataframe\">\n",
       "  <thead>\n",
       "    <tr style=\"text-align: right;\">\n",
       "      <th></th>\n",
       "      <th>loss</th>\n",
       "      <th>accuracy</th>\n",
       "      <th>val_loss</th>\n",
       "      <th>val_accuracy</th>\n",
       "      <th>epoch</th>\n",
       "    </tr>\n",
       "  </thead>\n",
       "  <tbody>\n",
       "    <tr>\n",
       "      <th>99</th>\n",
       "      <td>0.019966</td>\n",
       "      <td>0.989305</td>\n",
       "      <td>1.340008</td>\n",
       "      <td>0.761905</td>\n",
       "      <td>99</td>\n",
       "    </tr>\n",
       "  </tbody>\n",
       "</table>\n",
       "</div>"
      ],
      "text/plain": [
       "        loss  accuracy  val_loss  val_accuracy  epoch\n",
       "99  0.019966  0.989305  1.340008      0.761905     99"
      ]
     },
     "metadata": {},
     "output_type": "display_data"
    },
    {
     "data": {
      "image/png": "[encoded data removed]",
      "text/plain": [
       "<Figure size 432x288 with 1 Axes>"
      ]
     },
     "metadata": {
      "needs_background": "light"
     },
     "output_type": "display_data"
    }
   ],
   "source": [
    "from tensorflow.keras.layers import Dropout\n",
    "\n",
    "# Define model\n",
    "p = 0.1 # Dropout rate\n",
    "model = Sequential()\n",
    "model.add(Dense(60, input_shape=(60,), activation='relu'))\n",
    "model.add(Dropout(p))\n",
    "model.add(Dense(30, activation='relu'))\n",
    "model.add(Dropout(p))\n",
    "model.add(Dense(1, activation='sigmoid'))\n",
    "\n",
    "# Compile model\n",
    "sgd = SGD(learning_rate=0.1, momentum=0.9)\n",
    "model.compile(loss='binary_crossentropy', optimizer=sgd, metrics=['accuracy'])\n",
    "\n",
    "# Train model\n",
    "history = model.fit(x=x_scaled, y=y_train, \n",
    "    epochs=100,\n",
    "    shuffle=True,\n",
    "    validation_split=0.1,\n",
    "    verbose=0,\n",
    "    callbacks=[PrintDot()])\n",
    "\n",
    "\n",
    "hist = pd.DataFrame(history.history)\n",
    "hist['epoch'] = history.epoch\n",
    "display(hist.tail(1))\n",
    "plot_history(hist)"
   ]
  },
  {
   "cell_type": "markdown",
   "metadata": {},
   "source": [
    "**Again** we notice the same spikey patterns, even as all input data is available for all training samples in this case.\n",
    "\n",
    "This is because now, if the model is relying a lot on one / few nodes to extract the right answer, and these nodes are dropped, the loss will spike.\n",
    "\n",
    "The model will eventually learn to spread out the decision power across all its nodes, and not rely on single / few nodes to make the call."
   ]
  },
  {
   "cell_type": "markdown",
   "metadata": {},
   "source": [
    "### Unlocking the full potential of dropout\n",
    "\n",
    "First of all we will limit the norms of the weights in the dense layers, to 3 - this is due to a suggestion in the [paper](https://www.cs.toronto.edu/~rsalakhu/papers/srivastava14a.pdf).\n",
    "- This is done to counter extreme \"spikey\" behaviour in the net. If a node has an extremely large weight attached to it, it means it relies / is relied upon a lot, and will most likely cause a large spike when dropped.\n",
    "\n",
    "Second, we will increase the net size. A problem with dropout is that we are always training with a net that is reduced by 10-50% in size (depending on dropout rate), and so we should increase the net with the same amount to get as a precise net architecture.\n",
    "\n",
    "We will also use dropout on both visible and hidden layers."
   ]
  },
  {
   "cell_type": "code",
   "execution_count": 29,
   "metadata": {},
   "outputs": [
    {
     "name": "stdout",
     "output_type": "stream",
     "text": [
      "\n",
      "...................................................................................................."
     ]
    },
    {
     "data": {
      "text/html": [
       "<div>\n",
       "<style scoped>\n",
       "    .dataframe tbody tr th:only-of-type {\n",
       "        vertical-align: middle;\n",
       "    }\n",
       "\n",
       "    .dataframe tbody tr th {\n",
       "        vertical-align: top;\n",
       "    }\n",
       "\n",
       "    .dataframe thead th {\n",
       "        text-align: right;\n",
       "    }\n",
       "</style>\n",
       "<table border=\"1\" class=\"dataframe\">\n",
       "  <thead>\n",
       "    <tr style=\"text-align: right;\">\n",
       "      <th></th>\n",
       "      <th>loss</th>\n",
       "      <th>accuracy</th>\n",
       "      <th>val_loss</th>\n",
       "      <th>val_accuracy</th>\n",
       "      <th>epoch</th>\n",
       "    </tr>\n",
       "  </thead>\n",
       "  <tbody>\n",
       "    <tr>\n",
       "      <th>99</th>\n",
       "      <td>0.045215</td>\n",
       "      <td>0.967914</td>\n",
       "      <td>0.353685</td>\n",
       "      <td>0.809524</td>\n",
       "      <td>99</td>\n",
       "    </tr>\n",
       "  </tbody>\n",
       "</table>\n",
       "</div>"
      ],
      "text/plain": [
       "        loss  accuracy  val_loss  val_accuracy  epoch\n",
       "99  0.045215  0.967914  0.353685      0.809524     99"
      ]
     },
     "metadata": {},
     "output_type": "display_data"
    },
    {
     "data": {
      "image/png": "[encoded data removed]",
      "text/plain": [
       "<Figure size 432x288 with 1 Axes>"
      ]
     },
     "metadata": {
      "needs_background": "light"
     },
     "output_type": "display_data"
    }
   ],
   "source": [
    "from tensorflow.keras.layers import Dropout\n",
    "from tensorflow.keras.constraints import MaxNorm\n",
    "\n",
    "\n",
    "# Define model\n",
    "p = 0.2 # Dropout rate\n",
    "model = Sequential()\n",
    "model.add(Dropout(p, input_shape=(60,)))\n",
    "model.add(Dense(60, activation='relu', kernel_constraint=MaxNorm(4)))\n",
    "model.add(Dropout(p))\n",
    "model.add(Dense(60, activation='relu', kernel_constraint=MaxNorm(4)))\n",
    "model.add(Dropout(p))\n",
    "model.add(Dense(1, activation='sigmoid'))\n",
    "\n",
    "# Compile model\n",
    "sgd = SGD(learning_rate=0.1, momentum=0.9)\n",
    "model.compile(loss='binary_crossentropy', optimizer=sgd, metrics=['accuracy'])\n",
    "\n",
    "# Train model\n",
    "history = model.fit(x=x_scaled, y=y_train, \n",
    "    epochs=100,\n",
    "    shuffle=True,\n",
    "    validation_split=0.1,\n",
    "    verbose=0,\n",
    "    callbacks=[PrintDot()])\n",
    "\n",
    "\n",
    "hist = pd.DataFrame(history.history)\n",
    "hist['epoch'] = history.epoch\n",
    "display(hist.tail(1))\n",
    "plot_history(hist)"
   ]
  },
  {
   "cell_type": "markdown",
   "metadata": {},
   "source": [
    "**Still no impressed**?\n",
    "- The dropout layer will cause a very \"spikey\" behaviour in loss performance, and sometimes the model in the final iteration will not impress with its val_loss.\n",
    "- However, it is evident that if we were to \"stop the model training\" at certain point in the training, we would get a model with both low validation loss and training loss.\n",
    "- This can be done using a callback function in keras (called \"model checkpoint\"), which will retrieve the model with the best validation accuracy.\n",
    "    - Alternatively use the callback \"early stopping\" which has a function to restore the best weights to the current model"
   ]
  },
  {
   "cell_type": "code",
   "execution_count": 35,
   "metadata": {},
   "outputs": [
    {
     "name": "stdout",
     "output_type": "stream",
     "text": [
      "\n",
      "..................Restoring model weights from the end of the best epoch: 8.\n",
      "Epoch 18: early stopping\n"
     ]
    },
    {
     "data": {
      "text/html": [
       "<div>\n",
       "<style scoped>\n",
       "    .dataframe tbody tr th:only-of-type {\n",
       "        vertical-align: middle;\n",
       "    }\n",
       "\n",
       "    .dataframe tbody tr th {\n",
       "        vertical-align: top;\n",
       "    }\n",
       "\n",
       "    .dataframe thead th {\n",
       "        text-align: right;\n",
       "    }\n",
       "</style>\n",
       "<table border=\"1\" class=\"dataframe\">\n",
       "  <thead>\n",
       "    <tr style=\"text-align: right;\">\n",
       "      <th></th>\n",
       "      <th>loss</th>\n",
       "      <th>accuracy</th>\n",
       "      <th>val_loss</th>\n",
       "      <th>val_accuracy</th>\n",
       "      <th>epoch</th>\n",
       "    </tr>\n",
       "  </thead>\n",
       "  <tbody>\n",
       "    <tr>\n",
       "      <th>17</th>\n",
       "      <td>0.140995</td>\n",
       "      <td>0.962567</td>\n",
       "      <td>0.135012</td>\n",
       "      <td>0.952381</td>\n",
       "      <td>17</td>\n",
       "    </tr>\n",
       "  </tbody>\n",
       "</table>\n",
       "</div>"
      ],
      "text/plain": [
       "        loss  accuracy  val_loss  val_accuracy  epoch\n",
       "17  0.140995  0.962567  0.135012      0.952381     17"
      ]
     },
     "metadata": {},
     "output_type": "display_data"
    },
    {
     "data": {
      "image/png": "[encoded data removed]",
      "text/plain": [
       "<Figure size 432x288 with 1 Axes>"
      ]
     },
     "metadata": {
      "needs_background": "light"
     },
     "output_type": "display_data"
    }
   ],
   "source": [
    "from tensorflow.keras.callbacks import ModelCheckpoint \n",
    "from tensorflow.keras.callbacks import EarlyStopping\n",
    "\n",
    "mcp_save = ModelCheckpoint('.best_model.hdf5', save_best_only=True, monitor='val_loss', mode='min')\n",
    "early_stopping_monitor = EarlyStopping(\n",
    "    monitor='val_loss',\n",
    "    min_delta=0,\n",
    "    patience=20,\n",
    "    verbose=1,\n",
    "    mode='auto',\n",
    "    baseline=None,\n",
    "    restore_best_weights=True\n",
    ")\n",
    "\n",
    "# Define model\n",
    "p = 0.2 # Dropout rate\n",
    "model = Sequential()\n",
    "model.add(Dropout(p, input_shape=(60,)))\n",
    "model.add(Dense(60, activation='relu', kernel_constraint=MaxNorm(4)))\n",
    "model.add(Dropout(p))\n",
    "model.add(Dense(60, activation='relu', kernel_constraint=MaxNorm(4)))\n",
    "model.add(Dropout(p))\n",
    "model.add(Dense(1, activation='sigmoid'))\n",
    "\n",
    "# Compile model\n",
    "sgd = SGD(learning_rate=0.1, momentum=0.9)\n",
    "model.compile(loss='binary_crossentropy', optimizer=sgd, metrics=['accuracy'])\n",
    "\n",
    "# Train model\n",
    "history = model.fit(x=x_scaled, y=y_train, \n",
    "    epochs=100,\n",
    "    shuffle=True,\n",
    "    validation_split=0.1,\n",
    "    verbose=0,\n",
    "    callbacks=[PrintDot(), mcp_save, early_stopping_monitor])\n",
    "\n",
    "\n",
    "hist = pd.DataFrame(history.history)\n",
    "hist['epoch'] = history.epoch\n",
    "display(hist.tail(1))\n",
    "plot_history(hist)"
   ]
  },
  {
   "cell_type": "code",
   "execution_count": null,
   "metadata": {},
   "outputs": [],
   "source": []
  }
 ],
 "metadata": {
  "kernelspec": {
   "display_name": "Python 3.7.8 64-bit",
   "language": "python",
   "name": "python3"
  },
  "language_info": {
   "codemirror_mode": {
    "name": "ipython",
    "version": 3
   },
   "file_extension": ".py",
   "mimetype": "text/x-python",
   "name": "python",
   "nbconvert_exporter": "python",
   "pygments_lexer": "ipython3",
   "version": "3.7.8"
  },
  "orig_nbformat": 4,
  "vscode": {
   "interpreter": {
    "hash": "9f4bcb5483d3797e4ccb7ceb460a740ac9f20da3efed712a7aa712a18b8eadf8"
   }
  }
 },
 "nbformat": 4,
 "nbformat_minor": 2
}
