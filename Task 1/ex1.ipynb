{
 "cells": [
  {
   "cell_type": "markdown",
   "metadata": {},
   "source": [
    "## TASK 1 Simple image classification \n",
    "\n",
    "**This notebook holds an example of**, a complete forward-backward learning cycle through a very simple classification network. \\\n",
    "The network consists of:\n",
    "- A simple feature extraction / convulutional and pooling layer.\n",
    "- A classification layer: Feed forward neural network.\n",
    "\n",
    "The task is individual, but cooperation is allowed. Only basic tools like numpy, matplotlib should be used (no tensorflow).\n",
    "\n",
    "**Delivery:** Two notebooks.\n",
    "- Complete example, focusing on clear explanation of solutions.\n",
    "- ...and problem solving, where parts of the solution is hidden.\n",
    "\n",
    "**Assesment:**\n",
    "- Level of **explanation** and **correctness**. \n",
    "- Level Concreteness and detail.\n",
    "- Simplicity: as simple as possible\n",
    "- Complexness / difficulty: how complex was the implemented features.\n",
    "- Creativity / originality.\n",
    "- References and links to other work.\n",
    "\n"
   ]
  },
  {
   "cell_type": "code",
   "execution_count": 1,
   "metadata": {},
   "outputs": [
    {
     "data": {
      "text/plain": [
       "'\\nMy idea:\\n- Compare performance of basic ANN vs CNN + ANN on MNIST dataset!\\n'"
      ]
     },
     "execution_count": 1,
     "metadata": {},
     "output_type": "execute_result"
    }
   ],
   "source": [
    "\"\"\"\n",
    "My idea:\n",
    "- Compare performance of basic ANN vs CNN + ANN on MNIST dataset!\n",
    "\"\"\""
   ]
  },
  {
   "cell_type": "code",
   "execution_count": 2,
   "metadata": {},
   "outputs": [],
   "source": [
    "import numpy as np\n",
    "import matplotlib.pyplot as plt\n",
    "\n",
    "\"\"\"\n",
    "Basic utility functions for visualizing an \"image\".\n",
    "\"\"\"\n",
    "\n",
    "def visualize_image(X, label):\n",
    "    # Plot \"pixels\" with numerical value and color map\n",
    "    fig = plt.figure(figsize=(3, 3))\n",
    "    ax = fig.add_subplot(1,1,1)\n",
    "    ax.axis('off')\n",
    "    ax.imshow(X, cmap=\"coolwarm\")\n",
    "    ax.title.set_text(label)\n",
    "    for i in range(X.shape[0]):\n",
    "        for j in range(X.shape[1]):\n",
    "            ax.text(j, i, f\"{X[i,j]:.2f}\", color=\"black\", fontsize=\"small\", ha=\"center\", va=\"center\")\n",
    "\n",
    "def convolution(X, F, b=0, s=1):\n",
    "    # Convolutional layer\n",
    "    # note: no padding and depth=1 just to make calculations a bit simpler\n",
    "    # Output feature size\n",
    "    w_out = (X.shape[0] - F.shape[0])//s + 1\n",
    "    h_out = (X.shape[1] - F.shape[1])//s + 1\n",
    "    z = np.zeros((h_out, w_out))\n",
    "    for j in range(0, w_out, s):\n",
    "        for i in range(0, h_out, s):\n",
    "            z[i,j] = X[i:i+F.shape[1], j:j+F.shape[0]].flatten().dot(F.flatten()) + b\n",
    "    return z\n",
    "\n",
    "def max_pool(X, k, s):\n",
    "    h_out = (X.shape[0] - k)//s + 1\n",
    "    w_out = (X.shape[1] - k)//s + 1\n",
    "    z = np.zeros((h_out, w_out))\n",
    "    idx = []\n",
    "    for j in range(0, h_out):\n",
    "        for i in range(0, w_out):\n",
    "            block = X[j*k:j*k+k, i*k:i*k+k]\n",
    "            z[j,i] = np.max(block)\n",
    "            index = np.add(np.unravel_index(block.argmax(), block.shape), (j*k, i*k))\n",
    "            idx.append(index) # Save indices of max values for backward pass!\n",
    "    return z, idx\n"
   ]
  },
  {
   "cell_type": "code",
   "execution_count": 3,
   "metadata": {},
   "outputs": [],
   "source": [
    "\"\"\"\n",
    "Different loss functions\n",
    "\"\"\"\n",
    "\n",
    "def ReLU(x):\n",
    "    return abs(x) * (x > 0) # abs just makes -0.0 into 0.0 for easier reading\n",
    "def d_ReLU(x): # differentiated!\n",
    "    return 1 * (x > 0)\n",
    "def sigmoid(x):\n",
    "    y = np.exp(x)\n",
    "    return y / (1 + y)\n",
    "def d_sigmoid(x): # differentiated!\n",
    "    y = sigmoid(x)\n",
    "    return y * (1.0 - y)\n",
    "def bce_loss(y, p):\n",
    "    # Binary cross-entropy loss function\n",
    "    return -(y * np.log10(p) + (1-y) * np.log10(1-p))\n",
    "def d_bce_loss(y,p): # differentiated!\n",
    "    # Derivative wrt. p\n",
    "    return (1 - y) / (1 - p) - (y / p)\n"
   ]
  },
  {
   "cell_type": "code",
   "execution_count": 4,
   "metadata": {},
   "outputs": [],
   "source": [
    "\"\"\"\n",
    "Forward pass.\n",
    "- Let X denote the input image assumed to be belonging to class\n",
    "- We initialize the weights and bias in the convolutional layer (to some arbitrary values) and perform the forward pass through this layer:\n",
    "\n",
    "\"\"\"\n",
    "X = np.array([[2,1,0,2,1], [2,1,1,0,2], [1,2,0,1,0], [1,0,2,1,2], [2,1,1,0,0]])\n",
    "y = 1"
   ]
  },
  {
   "cell_type": "code",
   "execution_count": 5,
   "metadata": {},
   "outputs": [
    {
     "data": {
      "image/png": "[encoded data removed]",
      "text/plain": [
       "<Figure size 216x216 with 1 Axes>"
      ]
     },
     "metadata": {
      "needs_background": "light"
     },
     "output_type": "display_data"
    },
    {
     "data": {
      "image/png": "[encoded data removed]",
      "text/plain": [
       "<Figure size 216x216 with 1 Axes>"
      ]
     },
     "metadata": {
      "needs_background": "light"
     },
     "output_type": "display_data"
    },
    {
     "data": {
      "image/png": "[encoded data removed]",
      "text/plain": [
       "<Figure size 216x216 with 1 Axes>"
      ]
     },
     "metadata": {
      "needs_background": "light"
     },
     "output_type": "display_data"
    },
    {
     "data": {
      "image/png": "[encoded data removed]",
      "text/plain": [
       "<Figure size 216x216 with 1 Axes>"
      ]
     },
     "metadata": {
      "needs_background": "light"
     },
     "output_type": "display_data"
    }
   ],
   "source": [
    "\n",
    "# Convolutional layer + ReLU activation function\n",
    "F = np.array([[1,-1],[-1,1]]) # Kernel\n",
    "b1 = 1.0 # Bias\n",
    "z1 = convolution(X, F, b1, s=1) # Perform convolution\n",
    "a1 = ReLU(z1) # Apply AF\n",
    "visualize_image(X, \"Input image: X\")\n",
    "visualize_image(F, \"Convolution kernel: F\")\n",
    "visualize_image(z1, \"z1 = Conv(X,F) + b1\")\n",
    "visualize_image(a1, \"a1 = ReLU(z1)\")"
   ]
  },
  {
   "cell_type": "code",
   "execution_count": 6,
   "metadata": {},
   "outputs": [
    {
     "data": {
      "image/png": "[encoded data removed]",
      "text/plain": [
       "<Figure size 216x216 with 1 Axes>"
      ]
     },
     "metadata": {
      "needs_background": "light"
     },
     "output_type": "display_data"
    },
    {
     "data": {
      "image/png": "[encoded data removed]",
      "text/plain": [
       "<Figure size 216x216 with 1 Axes>"
      ]
     },
     "metadata": {
      "needs_background": "light"
     },
     "output_type": "display_data"
    }
   ],
   "source": [
    "\"\"\"\n",
    "We now apply max pooling and flatten the output of our feature extractor before passing it to the fully-connected layer:\n",
    "\"\"\"\n",
    "\n",
    "# MaxPool + Flatten\n",
    "a2, max_idx = max_pool(a1, k=2, s=2)\n",
    "a3 = a2.flatten()\n",
    "visualize_image(a2, \"a2 = MaxPool(a1, k=2, s=2)\")\n",
    "visualize_image(a3.reshape(1,4), \"a3 = Flatten(a2)\")\n"
   ]
  },
  {
   "cell_type": "code",
   "execution_count": 7,
   "metadata": {},
   "outputs": [
    {
     "name": "stdout",
     "output_type": "stream",
     "text": [
      "Activation after fully-connected layer: 0.27\n",
      "Binary cross-entropy loss: 0.57\n"
     ]
    }
   ],
   "source": [
    "\"\"\"\n",
    "We initialize the weights and bias of the fully-connected layer and perform the forward pass. We also compute the binary cross-entropy loss:\n",
    "\"\"\"\n",
    "# Fully-connected layer\n",
    "w4 = np.array([-1, 1, -1, 1]) # Weights\n",
    "b4 = 0 # Bias\n",
    "z4 = w4.dot(a3) + b4\n",
    "a4 = sigmoid(z4)\n",
    "print(f\"Activation after fully-connected layer: {a4:.2f}\")\n",
    "loss = bce_loss(y, a4)\n",
    "print(f\"Binary cross-entropy loss: {loss:.2f}\")"
   ]
  },
  {
   "cell_type": "markdown",
   "metadata": {},
   "source": [
    "### Backwards pass\n",
    "\n",
    "- **Backprop**. starting from the fully connected layer, going back to pooling and convolution in the end.\\\n",
    "![Delta](images/backpass_delta.png)\n",
    "- **Apply chain rule:** \\\n",
    "![Chain](images/chain_ruled.png)"
   ]
  },
  {
   "cell_type": "code",
   "execution_count": 8,
   "metadata": {},
   "outputs": [
    {
     "name": "stdout",
     "output_type": "stream",
     "text": [
      "dL / d(b4) = -0.73\n",
      "dL / d(w4) = [-2.19 -2.92 -3.66 -2.19]\n"
     ]
    }
   ],
   "source": [
    "lr = 0.1 # Leanring rate\n",
    "# Fully connected layer:\n",
    "delta = d_bce_loss(1, a4) * d_sigmoid(z4)\n",
    "print(f\"dL / d(b4) = {delta:.2f}\")\n",
    "#b4 = b4 - lr * delta # Update bias\n",
    "delta = delta * a3 # Gradient wrt. w4\n",
    "print(f\"dL / d(w4) = {np.round(delta, 2)}\")\n",
    "#w4 = w4 - lr * delta # Update weights\n"
   ]
  },
  {
   "cell_type": "code",
   "execution_count": 9,
   "metadata": {},
   "outputs": [
    {
     "data": {
      "image/png": "[encoded data removed]",
      "text/plain": [
       "<Figure size 216x216 with 1 Axes>"
      ]
     },
     "metadata": {
      "needs_background": "light"
     },
     "output_type": "display_data"
    }
   ],
   "source": [
    "### NEXT, we unflatten the backpropagated derivative:\n",
    "delta = delta.reshape(a2.shape)\n",
    "visualize_image(delta, \"Reshaped derivative\")"
   ]
  },
  {
   "cell_type": "code",
   "execution_count": 10,
   "metadata": {},
   "outputs": [
    {
     "data": {
      "image/png": "[encoded data removed]",
      "text/plain": [
       "<Figure size 216x216 with 1 Axes>"
      ]
     },
     "metadata": {
      "needs_background": "light"
     },
     "output_type": "display_data"
    },
    {
     "data": {
      "image/png": "[encoded data removed]",
      "text/plain": [
       "<Figure size 216x216 with 1 Axes>"
      ]
     },
     "metadata": {
      "needs_background": "light"
     },
     "output_type": "display_data"
    }
   ],
   "source": [
    "\"\"\" We now backpropagate through the max pooling layer. \n",
    "Only the entries appearing as maximum values in the forward pass affects the output of the\n",
    "max pooling layer (with a factor of ). Consequently, we get that can be computed as follows:\n",
    "\"\"\"\n",
    "d = np.zeros(a1.shape)\n",
    "for idx, grad in zip(max_idx, delta.flatten()):\n",
    "    i, j = idx[0], idx[1]\n",
    "    d[i,j] = grad\n",
    "delta = d\n",
    "visualize_image(a1, \"a1\")\n",
    "visualize_image(delta, \"dL/d(a1)\")"
   ]
  },
  {
   "cell_type": "code",
   "execution_count": 11,
   "metadata": {},
   "outputs": [
    {
     "data": {
      "text/plain": [
       "[array([1, 0], dtype=int64),\n",
       " array([0, 3], dtype=int64),\n",
       " array([2, 1], dtype=int64),\n",
       " array([2, 3], dtype=int64)]"
      ]
     },
     "execution_count": 11,
     "metadata": {},
     "output_type": "execute_result"
    }
   ],
   "source": [
    "# WE see that only the max-tiles are affected\n",
    "max_idx"
   ]
  },
  {
   "cell_type": "markdown",
   "metadata": {},
   "source": [
    "**Next, we backpropagate through the ReLU activation function.**\n",
    "\n",
    "The ReLU has slope  for non-negative inputs and slope for negative inputs. The\n",
    "derivative is implemented in d_ReLU(). \\\n",
    "![RELU](images/ReLU.png)"
   ]
  },
  {
   "cell_type": "code",
   "execution_count": 12,
   "metadata": {},
   "outputs": [
    {
     "data": {
      "image/png": "[encoded data removed]",
      "text/plain": [
       "<Figure size 216x216 with 1 Axes>"
      ]
     },
     "metadata": {
      "needs_background": "light"
     },
     "output_type": "display_data"
    }
   ],
   "source": [
    "delta = d_ReLU(z1) * delta\n",
    "visualize_image(delta, \"dL/dz1\")"
   ]
  },
  {
   "cell_type": "markdown",
   "metadata": {},
   "source": [
    "**Conv-layer backprop is a bit harder:**\n",
    "![RELU](images/conv_backprop.png)"
   ]
  },
  {
   "cell_type": "code",
   "execution_count": 13,
   "metadata": {},
   "outputs": [
    {
     "name": "stdout",
     "output_type": "stream",
     "text": [
      "dL / d(b1) = -10.97\n"
     ]
    }
   ],
   "source": [
    "## First for the biases\n",
    "\n",
    "grad_b1 = delta.sum() # dL/d(b1)\n",
    "print(f\"dL / d(b1) = {grad_b1:.2f}\")\n",
    "#b1 = b1 - lr * grad_b1 # Update bias\n"
   ]
  },
  {
   "cell_type": "code",
   "execution_count": 14,
   "metadata": {},
   "outputs": [
    {
     "data": {
      "image/png": "[encoded data removed]",
      "text/plain": [
       "<Figure size 216x216 with 1 Axes>"
      ]
     },
     "metadata": {
      "needs_background": "light"
     },
     "output_type": "display_data"
    }
   ],
   "source": [
    "## Now for the convolutional kernel\n",
    "grad_F = np.zeros(F.shape)\n",
    "grad_F[0,0] = np.sum(X[0:4, 0:4] * delta)\n",
    "grad_F[0,1] = np.sum(X[0:4, 1:5] * delta)\n",
    "grad_F[1,0] = np.sum(X[1:5, 0:4] * delta)\n",
    "grad_F[1,1] = np.sum(X[1:5, 1:5] * delta)\n",
    "# F = F - lr * grad_F # Update weights\n",
    "visualize_image(grad_F, \"dL/dF\")"
   ]
  },
  {
   "cell_type": "markdown",
   "metadata": {},
   "source": [
    "#### Derivation as convolution:\n",
    "Note that we can also realize the above formulas for computing dL/dF as a convolution!\\\n",
    "![Deriv](images/deriv_as_conv.png)"
   ]
  },
  {
   "cell_type": "code",
   "execution_count": 15,
   "metadata": {},
   "outputs": [
    {
     "data": {
      "image/png": "[encoded data removed]",
      "text/plain": [
       "<Figure size 216x216 with 1 Axes>"
      ]
     },
     "metadata": {
      "needs_background": "light"
     },
     "output_type": "display_data"
    }
   ],
   "source": [
    "grad_F = convolution(X, delta)\n",
    "visualize_image(grad_F, \"dL/dF\")"
   ]
  }
 ],
 "metadata": {
  "kernelspec": {
   "display_name": "Python 3.7.8 64-bit",
   "language": "python",
   "name": "python3"
  },
  "language_info": {
   "codemirror_mode": {
    "name": "ipython",
    "version": 3
   },
   "file_extension": ".py",
   "mimetype": "text/x-python",
   "name": "python",
   "nbconvert_exporter": "python",
   "pygments_lexer": "ipython3",
   "version": "3.7.8"
  },
  "orig_nbformat": 4,
  "vscode": {
   "interpreter": {
    "hash": "9f4bcb5483d3797e4ccb7ceb460a740ac9f20da3efed712a7aa712a18b8eadf8"
   }
  }
 },
 "nbformat": 4,
 "nbformat_minor": 2
}
