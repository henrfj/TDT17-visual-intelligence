{
 "cells": [
  {
   "cell_type": "markdown",
   "metadata": {},
   "source": [
    "# Phase 1: my own work\n",
    "\n",
    "In this notebook I will show:\n",
    "- A forward-backwards pass (FBPass) for a simple network.\n",
    "    - The network concists of: one convolutional layer, a max-pooling layer and a dense layer on top - with activation functions for the first and last layer.\n",
    "- The Network will be used in a simple example, to classify in a binary case. \n",
    "    - This is achieved by adding a loss functions - allowing training on a small dataset.\n",
    "- Lastly: the notebook will look into **batching** of the training data. Will it change the performance? Will it train faster? "
   ]
  },
  {
   "cell_type": "code",
   "execution_count": 1,
   "metadata": {},
   "outputs": [],
   "source": [
    "### All dependencies\n",
    "import numpy as np              # For matrix algebra\n",
    "import matplotlib.pyplot as plt # For visualization\n",
    "import math                     # For an edge case; nan detection\n",
    "import warnings                 # For warning supression\n",
    "warnings.filterwarnings('ignore') "
   ]
  },
  {
   "cell_type": "markdown",
   "metadata": {},
   "source": [
    "## Creating a simple dataset\n",
    "\n",
    "- The dataset we create concists of grayscale \"images\" of two types of simple patterns.\n",
    "    - The dataset being grayscale means its 2D input, not 3D.\n",
    "- The dataset is visualized below.\n",
    "- Notice that the dataset is already **normalized** - meaning that all values are in the range [1, 0].\\\n",
    "(https://pipeline.zoominfo.com/operations/what-is-data-normalization)"
   ]
  },
  {
   "cell_type": "code",
   "execution_count": 2,
   "metadata": {},
   "outputs": [
    {
     "data": {
      "text/plain": [
       "(6, 6, 6)"
      ]
     },
     "execution_count": 2,
     "metadata": {},
     "output_type": "execute_result"
    }
   ],
   "source": [
    "\n",
    "edge1 = np.array([[0,0,0,0,0, 0], [0,1,1,0,0,0], [0,1,0,0,0,0], [0,0,0,0,0,0], [0,0,0,0,0,0], [0,0,0,0,0,0]])\n",
    "edge2 = np.array([[0,0,0,0,0, 0], [0,0,1,1,0,0], [0,0,1,0,0,0], [0,0,0,0,0,0], [0,0,0,0,0,0], [0,0,0,0,0,0]])\n",
    "edge3 = np.array([[0,0,0,0,0, 0], [0,0,0,0,0,0], [0,0,0,1,1,0], [0,0,0,1,0,0], [0,0,0,0,0,0], [0,0,0,0,0,0]])\n",
    "\n",
    "singles1 = np.array([[0,0,0,0,0,0], [0,0,0,0,0,0], [0,0,0,0,1,0], [0,0,0,0,0,0], [0,0,0,0,0,0], [0,0,0,0,0,0]])\n",
    "singles2 = np.array([[0,0,0,0,0,0], [0,0,1,0,0,0], [0,0,0,0,0,0], [0,0,0,0,0,0], [0,0,0,0,0,0], [0,0,0,0,0,0]])\n",
    "singles3 = np.array([[0,0,0,0,0,0], [0,0,0,0,0,0], [0,0,0,0,0,0], [0,0,0,0,1,0], [0,0,0,0,0,0], [0,0,0,0,0,0]])\n",
    "\n",
    "y_train = np.array([1, 1, 1, 0, 0, 0]) # 1 is edge, 0 is no edge\n",
    "X_train = np.asarray([edge1, edge2, edge3, singles1, singles2, singles3])\n",
    "X_train.shape"
   ]
  },
  {
   "cell_type": "code",
   "execution_count": 3,
   "metadata": {},
   "outputs": [
    {
     "data": {
      "image/png": "[encoded data removed]",
      "text/plain": [
       "<Figure size 720x1080 with 6 Axes>"
      ]
     },
     "metadata": {
      "needs_background": "light"
     },
     "output_type": "display_data"
    }
   ],
   "source": [
    "fig, axs = plt.subplots(nrows=1, ncols=6, figsize=(10, 15))\n",
    "axs[0].imshow(X_train[0])\n",
    "axs[0].set_title(\"Edge\")\n",
    "axs[1].imshow(X_train[1])\n",
    "axs[1].set_title(\"Edge\")\n",
    "axs[2].imshow(X_train[2])\n",
    "axs[2].set_title(\"Edge\")\n",
    "axs[3].imshow(X_train[3])\n",
    "axs[3].set_title(\"dot\")\n",
    "axs[4].imshow(X_train[4])\n",
    "axs[4].set_title(\"dot\")\n",
    "axs[5].imshow(X_train[5])\n",
    "axs[5].set_title(\"dot\");"
   ]
  },
  {
   "cell_type": "markdown",
   "metadata": {},
   "source": [
    "## Creating util functions\n",
    "- Creating functions to define a  convolutional layer nad a dense layer.\n",
    "- The notation and structure is inspired by the documents in teams: \"10_numExample\\2022\\2022-P0\\2022-P0-T1_FCNNs & CNNs - F&B pass\\00_Examples_Given\\FCCNs-CNNs-FBPass_EX1.pdf\"\n",
    "\n",
    "You will find:\n",
    "1. A Convolutional layer: Take a filter F and an image X and performs convolution across the image.\\\n",
    "A very simple conv. layer => no padding enabled, and assuming grayscale / 2D input.\n",
    "2. A max pool layer: Simply chooses the maximum value within a square.\\\n",
    "    Samples down the problem, by removing some information.\\\n",
    "    The idea is that the conv. layer will give large values  ($\\pm$) where a feature is detected,\\\n",
    "    so we should select for these large values to pass on. Other information is not as important.\n",
    "\n",
    "    Also: keeps the indexes of where the maximas where taken from - which is needed in the backwards pass.\n",
    "\n",
    "3. Activation functions and loss functions and their derivatives.\n",
    "- ReLU is used after the conv layer, in order to remove negative values that might have appeared from the conv. step.\n",
    "- Sigmoid is used after the classification layer; as we are only interested in the outputs 0, and 1.\n",
    "- BCE loss function (binary cross entropy) finds the distance / cross entropy between your answer and the target - for a binary (0/1) classification.\n",
    "\n",
    "The reason we also need the derivatives, is that they are used in the backwards pass."
   ]
  },
  {
   "cell_type": "code",
   "execution_count": 4,
   "metadata": {},
   "outputs": [],
   "source": [
    "def convolution(X, F, b=0, s=1):\n",
    "    \"\"\"\n",
    "    A Convolutional layer:\n",
    "    Inputs:\n",
    "        - X: image 2D\n",
    "        - F: Kernel / filter\n",
    "        - b: The bias - which will be used / updated in our BPass.\n",
    "        - s: the stride / how far the kernel moves between each convolution operation.\n",
    "\n",
    "    Returns:\n",
    "        - z: the convolved image (as padding is not implemented, the size will be reduced by 1 in each dimension)\n",
    "\n",
    "    \"\"\"\n",
    "    w_out = (X.shape[0] - F.shape[0])//s + 1\n",
    "    h_out = (X.shape[1] - F.shape[1])//s + 1\n",
    "    z = np.zeros((h_out, w_out))\n",
    "    for j in range(0, w_out, s):\n",
    "        for i in range(0, h_out, s):\n",
    "            z[i,j] = X[i:i+F.shape[1], j:j+F.shape[0]].flatten().dot(F.flatten()) + b\n",
    "    return z\n",
    "\n",
    "def max_pool(X, k, s):\n",
    "    \"\"\"\n",
    "    A max pool layer. \n",
    "    Input:\n",
    "    - X: a 2D image, usually after convolution is applied.\n",
    "    - k: the size of the max-pool-kernel\n",
    "    - s: the stride of the max pool kernel.\n",
    "    Output:\n",
    "    - z: the max-pooled image\n",
    "    - idx: indexes of max values\n",
    "    \"\"\"\n",
    "    h_out = (X.shape[0] - k)//s + 1\n",
    "    w_out = (X.shape[1] - k)//s + 1\n",
    "    z = np.zeros((h_out, w_out))\n",
    "    idx = []\n",
    "    for j in range(0, h_out):\n",
    "        for i in range(0, w_out):\n",
    "            block = X[j*k:j*k+k, i*k:i*k+k]\n",
    "            z[j,i] = np.max(block)\n",
    "            index = np.add(np.unravel_index(block.argmax(), block.shape), (j*k, i*k))\n",
    "            idx.append(index) # Save indices of max values for backward pass!\n",
    "    return z, idx\n",
    "\n",
    "\n",
    "\"\"\"\n",
    "Different activation functions, and their derivatives.\n",
    "\"\"\"\n",
    "def ReLU(x):\n",
    "    return abs(x) * (x > 0) \n",
    "def d_ReLU(x): # differentiated!\n",
    "    return 1 * (x > 0)\n",
    "def sigmoid(x):\n",
    "    y = np.exp(x)\n",
    "    return y / (1 + y)\n",
    "def d_sigmoid(x): # differentiated!\n",
    "    y = sigmoid(x)\n",
    "    return y * (1.0 - y)\n",
    "\n",
    "\"\"\"\n",
    "The binary cross entropy loss function, and its derivative.\n",
    "\"\"\"\n",
    "def bce_loss(y, p):\n",
    "    # Binary cross-entropy loss function\n",
    "    return -(y * np.log10(p) + (1-y) * np.log10(1-p))\n",
    "def d_bce_loss(y,p): # differentiated!\n",
    "    # Derivative wrt. p\n",
    "    return (1 - y) / (1 - p) - (y / p)"
   ]
  },
  {
   "cell_type": "markdown",
   "metadata": {},
   "source": [
    "## The forward pass:\n",
    "\n",
    "<img src=\"images/FPass.png\" alt=\"drawing\" style=\"width:1000px;\"/>\n",
    "\n",
    "Above, I have tried to illustrate the architecture I am using, as well as names I use between each component. \n",
    "\n",
    "Below, is the same - implemented in code.\n",
    "\n",
    "**Notice**, that we did not implement the densly connected neuron as a utility function above. That is because all this node does, is to multiply all weights with all outputs, and sum them together. This can be solved using the dot operator, and then adding the bias seperately afterwards. "
   ]
  },
  {
   "cell_type": "code",
   "execution_count": 5,
   "metadata": {},
   "outputs": [
    {
     "name": "stdout",
     "output_type": "stream",
     "text": [
      "a4: 0.21314236135824588\n",
      "target: 1 = an edge\n",
      "Loss: 0.671330227076936\n"
     ]
    }
   ],
   "source": [
    "# Initialize trainable parameters\n",
    "b1 = 1.0 # conv Bias\n",
    "F = np.array([[-0.5,0.5, -0.5],[-0.5,0.5, -0.5], [-0.5,0.5, -0.5]]) # Kernel\n",
    "w4 = np.random.randn(4) # Initialize random weights\n",
    "b4 = 0\n",
    "####################\n",
    "### Forward pass ###\n",
    "####################\n",
    "# Input image\n",
    "X = X_train[0]\n",
    "# Convolution\n",
    "z1 = convolution(X, F, b1, s=1) # Perform convolution\n",
    "a1 = ReLU(z1) # Apply AF\n",
    "# Maxpool \n",
    "a2, max_idx = max_pool(a1, k=2, s=2)\n",
    "# Flatten\n",
    "a3 = a2.flatten()\n",
    "# Densly connected\n",
    "z4 = w4.dot(a3) + b4\n",
    "a4 = sigmoid(z4)\n",
    "# Loss\n",
    "loss = bce_loss(y_train[0], a4)\n",
    "print(\"a4:\",  a4)\n",
    "print(\"target:\", y_train[0], \"= an edge\")\n",
    "print(\"Loss:\", loss)\n"
   ]
  },
  {
   "cell_type": "markdown",
   "metadata": {},
   "source": [
    "Our network is currently just giving a random output, as all parameters were initialized randomly.\n",
    "\n",
    "**Now** we need to train these parameters, using the loss.\n",
    "\n",
    "## Backwards pass\n",
    "\n",
    "<img src=\"images/BPass.png\" alt=\"drawing\" style=\"width:800px;\"/>\n",
    "\n",
    "Allright, there is a lot to take in here - but the math itself is just using a simple principle: the chain rule:\n",
    "\n",
    "$\\frac{dx}{dy} = \\frac{dx}{dz} * \\frac{dz}{dy}$\n",
    "\n",
    "What we want to find in the end, is how the loss (L) is affected by a change in a trainable parameter, say $w_4$: $\\frac{dL}{dw_4}$.\n",
    "\n",
    "Using a lot of chain rules - and by passing info backwards from one layer to the previous, this can be achieved.\n",
    "\n",
    "**NB** notice that the densly connected layer is implemented as a dot product above: $z_4 = w_4 \\cdot a_3 + b_4$,\\\n",
    "making $z_4$ differentiable with respect to both $w_4$ and $b_4$.\n",
    "\n",
    "\n",
    "The only step that is not shown here, is how we do backwards pass across the convolution, as it is a bit more *involved*. It can actually be done using convolution itself:\n",
    "\n",
    "![deriv](images/deriv_as_conv.png)\n",
    "\n",
    "If you want to learn more, navigate to: \"10_numExample\\2022\\2022-P0\\2022-P0-T1_FCNNs & CNNs - F&B pass\\00_Examples_Given\\FCCNs-CNNs-FBPass_EX1.pdf\"\n",
    "\n",
    "\n",
    "**Also** in order to actually update/learn the trainable parameters, we use the \"delta\" rule:\n",
    "\n",
    "$p^{old} = p^{new} - \\alpha \\cdot \\delta$\n",
    "\n",
    "... where $\\alpha$ is the learning rate.\n"
   ]
  },
  {
   "cell_type": "code",
   "execution_count": 6,
   "metadata": {},
   "outputs": [],
   "source": [
    "alpha = 0.1\n",
    "F_old = F.copy()\n",
    "\n",
    "####################\n",
    "### Backward pass ##\n",
    "####################\n",
    "# Fully connected layer:\n",
    "delta = d_bce_loss(y_train[0], a4) * d_sigmoid(z4)\n",
    "b4 = b4 - alpha * delta # Update bias\n",
    "delta = delta * a3 # Gradient wrt. w4\n",
    "w4 = w4 - alpha * delta # Update weights\n",
    "# Unflatten\n",
    "delta = delta.reshape(a2.shape)\n",
    "# Maxpooling layer\n",
    "d = np.zeros(a1.shape)\n",
    "for idx, grad in zip(max_idx, delta.flatten()):\n",
    "    i, j = idx[0], idx[1]\n",
    "    d[i,j] = grad\n",
    "delta = d\n",
    "# Backprop through ReLU\n",
    "delta = d_ReLU(z1) * delta\n",
    "# Convolution layer\n",
    "grad_b1 = delta.sum() # dL/d(b1)\n",
    "b1 = b1 - alpha * grad_b1 # Update bias\n",
    "grad_F = convolution(X, delta)\n",
    "F = F - alpha * grad_F # Update weights"
   ]
  },
  {
   "cell_type": "code",
   "execution_count": 7,
   "metadata": {},
   "outputs": [
    {
     "data": {
      "text/plain": [
       "(array([[-0.5,  0.5, -0.5],\n",
       "        [-0.5,  0.5, -0.5],\n",
       "        [-0.5,  0.5, -0.5]]),\n",
       " array([[-0.5       ,  0.61802865, -0.5       ],\n",
       "        [-0.5       ,  0.61802865, -0.38197135],\n",
       "        [-0.5       ,  0.61802865, -0.5       ]]))"
      ]
     },
     "execution_count": 7,
     "metadata": {},
     "output_type": "execute_result"
    }
   ],
   "source": [
    "F_old, F"
   ]
  },
  {
   "cell_type": "markdown",
   "metadata": {},
   "source": [
    "**After running a single BPass** we see that trainable parameter F was altered slightly. \n",
    "\n",
    "Now, all that is left is to repeat this process over and over, for more training data. It is important that the training data contains examples of both classes we want to classify."
   ]
  },
  {
   "cell_type": "code",
   "execution_count": 18,
   "metadata": {},
   "outputs": [],
   "source": [
    "def simple_fit(X_train, y_train, lr=0.1, epochs=10, scale=255):\n",
    "    \"\"\"\n",
    "    Simple fit function, doing complete FBpass over a training set.add\n",
    "    Inputs:\n",
    "    - Xtrain: A list of training samples. (2D images)\n",
    "    - y_train: labels - 0 or 1.\n",
    "    - lr: learning rate\n",
    "    - epochs: no. epochs to do.\n",
    "    - scale: scale of inputs - a simple normalization.\n",
    "    Returns:\n",
    "    - model: containing all trainable parameters at final iteration.\n",
    "    - losses: history of losses recorded after each Bpass.\n",
    "    \"\"\"\n",
    "    # Initialize randomly\n",
    "    b1 = 1.0 # conv Bias\n",
    "    F = np.array([[-0.5,0.5, -0.5],[-0.5,0.5, -0.5], [-0.5,0.5, -0.5]]) # Kernel\n",
    "    #F = np.array([[0.1,-0.1],[-0.1,0.1]]) # Kernel\n",
    "    w4 = None \n",
    "    b4 = 0 # neuron Bias\n",
    "    lr = lr # Learning rate\n",
    "    losses = []\n",
    "\n",
    "    for e in range(epochs):\n",
    "        for i, X in enumerate(X_train):        \n",
    "            X = X/scale # normalize\n",
    "            ####################\n",
    "            ### Forward pass ###\n",
    "            ####################\n",
    "            # Convolution\n",
    "            z1 = convolution(X, F, b1, s=1) # Perform convolution\n",
    "            a1 = ReLU(z1) # Apply AF\n",
    "            # Maxpool and flatten\n",
    "            a2, max_idx = max_pool(a1, k=2, s=2)\n",
    "            a3 = a2.flatten()\n",
    "            # Initialize to correct size\n",
    "            if e==0 and i==0:\n",
    "                w4 = np.random.randn(len(a3))\n",
    "            # Fully-connected layer\n",
    "            z4 = w4.dot(a3) + b4\n",
    "            a4 = sigmoid(z4)\n",
    "            # Loss\n",
    "            loss = bce_loss(y_train[i], a4)\n",
    "            losses.append(loss)\n",
    "\n",
    "            if math.isnan(losses[-1]):\n",
    "                # Could not find solution, restarting\n",
    "                # An edgecase that happens if the learning rate is too big: unstable system!\n",
    "                return simple_fit(X_train, y_train, lr=lr, epochs=epochs, scale=scale)\n",
    "\n",
    "            ####################\n",
    "            ### Backward pass ##\n",
    "            ####################\n",
    "            # Fully connected layer:\n",
    "            delta = d_bce_loss(y_train[i], a4) * d_sigmoid(z4)\n",
    "            b4 = b4 - lr * delta # Update bias\n",
    "            delta = delta * a3 # Gradient wrt. w4\n",
    "            w4 = w4 - lr * delta # Update weights\n",
    "\n",
    "            # NEXT, we unflatten the backpropagated derivative:\n",
    "            delta = delta.reshape(a2.shape)\n",
    "            # maxpooling layer\n",
    "            d = np.zeros(a1.shape)\n",
    "            for idx, grad in zip(max_idx, delta.flatten()):\n",
    "                i, j = idx[0], idx[1]\n",
    "                d[i,j] = grad\n",
    "            delta = d\n",
    "            # Backprop through delta\n",
    "            delta = d_ReLU(z1) * delta\n",
    "            # The conv bias\n",
    "            grad_b1 = delta.sum() # dL/d(b1)\n",
    "            b1 = b1 - lr * grad_b1 # Update bias\n",
    "            # The conv kernel\n",
    "            grad_F = convolution(X, delta)\n",
    "            F = F - lr * grad_F # Update weights\n",
    "\n",
    "    model = {\"b1\":b1, \"F\":F, \"b4\":b4, \"w4\":w4}\n",
    "    #if math.isnan(losses[-1]):\n",
    "    #    print(\"Could not find minima, restarting\")\n",
    "    #    return simple_fit(X_train, y_train, lr=lr, epochs=epochs, verbose=verbose, scale=scale)\n",
    "    return model, losses"
   ]
  },
  {
   "cell_type": "markdown",
   "metadata": {},
   "source": [
    "#### Let us test the simple framework: Edge detection"
   ]
  },
  {
   "cell_type": "code",
   "execution_count": 9,
   "metadata": {},
   "outputs": [
    {
     "data": {
      "image/png": "[encoded data removed]",
      "text/plain": [
       "<Figure size 720x1080 with 6 Axes>"
      ]
     },
     "metadata": {
      "needs_background": "light"
     },
     "output_type": "display_data"
    }
   ],
   "source": [
    "fig, axs = plt.subplots(nrows=1, ncols=6, figsize=(10, 15))\n",
    "# plotting the loss\n",
    "axs[0].imshow(X_train[0])\n",
    "axs[1].imshow(X_train[1])\n",
    "axs[2].imshow(X_train[2])\n",
    "axs[3].imshow(X_train[3])\n",
    "axs[4].imshow(X_train[4])\n",
    "axs[5].imshow(X_train[5]);"
   ]
  },
  {
   "cell_type": "markdown",
   "metadata": {},
   "source": [
    "Running the model on all 6 training samples. 3 from each class."
   ]
  },
  {
   "cell_type": "code",
   "execution_count": 64,
   "metadata": {},
   "outputs": [],
   "source": [
    "model, losses = simple_fit(X_train, y_train, lr=0.05, epochs=600, scale=1)"
   ]
  },
  {
   "cell_type": "markdown",
   "metadata": {},
   "source": [
    "Plotting the loss of the training sequence"
   ]
  },
  {
   "cell_type": "code",
   "execution_count": 65,
   "metadata": {},
   "outputs": [
    {
     "data": {
      "image/png": "[encoded data removed]",
      "text/plain": [
       "<Figure size 432x288 with 1 Axes>"
      ]
     },
     "metadata": {
      "needs_background": "light"
     },
     "output_type": "display_data"
    }
   ],
   "source": [
    "# Average loss over time\n",
    "N=50\n",
    "avg = np.convolve(losses, np.ones(N)/N, mode='valid')\n",
    "# plotting the loss\n",
    "plt.title(\"Loss\")\n",
    "plt.xlabel(\"no. passes\")\n",
    "plt.ylabel(\"Binary cross entropy loss\")\n",
    "plt.plot(np.linspace(0, len(losses), len(losses)), losses, label=\"Loss\")\n",
    "plt.plot(np.linspace(0, len(avg), len(avg)), avg, label=\"Average loss\")\n",
    "plt.legend();"
   ]
  },
  {
   "cell_type": "markdown",
   "metadata": {},
   "source": [
    "We see how the loss started stabilizing after passing going over around 1000 training samples.\n",
    "\n",
    "Next step is to do some predictions (basically just a forward pass) - and see how the model performs."
   ]
  },
  {
   "cell_type": "code",
   "execution_count": null,
   "metadata": {},
   "outputs": [],
   "source": [
    "def prediction(model, test_data, scale=255):\n",
    "    \"\"\"\n",
    "    Uses a model to predict on test data.\n",
    "    Is the same as running Fpasses for all test data.\n",
    "    Inputs:\n",
    "    - A model aon the same format as outputted by \"simple_fit\".\n",
    "    - test_data: set of 2D images to predict.\n",
    "    - Scale: scale of test data.\n",
    "    Outputs:\n",
    "    - A list of predictions.\n",
    "    \"\"\"\n",
    "    predictions = np.zeros(len(test_data))\n",
    "    for i, X in enumerate(test_data):\n",
    "        X = X/scale # normalize\n",
    "        b1 = model[\"b1\"]\n",
    "        F = model[\"F\"]\n",
    "        b4 = model[\"b4\"]\n",
    "        w4 = model[\"w4\"]\n",
    "        ####################\n",
    "        ### Forward pass ###\n",
    "        ####################\n",
    "        # Convolution\n",
    "        z1 = convolution(X, F, b1, s=1) # Perform convolution\n",
    "        a1 = ReLU(z1) # Apply AF\n",
    "        # Maxpool and flatten\n",
    "        a2, max_idx = max_pool(a1, k=2, s=2)\n",
    "        a3 = a2.flatten()\n",
    "        # Fully-connected layer\n",
    "        z4 = w4.dot(a3) + b4\n",
    "        a4 = sigmoid(z4)\n",
    "        # Loss\n",
    "        predictions[i] = a4\n",
    "    return predictions"
   ]
  },
  {
   "cell_type": "code",
   "execution_count": 66,
   "metadata": {},
   "outputs": [
    {
     "name": "stdout",
     "output_type": "stream",
     "text": [
      "predictions: [1. 1. 1. 0. 0. 0.]\n",
      "targets: [1 1 1 0 0 0]\n"
     ]
    }
   ],
   "source": [
    "predictions = prediction(model, X_train, scale=1)\n",
    "print(\"predictions:\", np.round(predictions, 1))\n",
    "print(\"targets:\", np.round(y_train, 1))"
   ]
  },
  {
   "cell_type": "markdown",
   "metadata": {},
   "source": [
    "Great, our model manages to predict on the training dataset - meaning that the model has succesfully mapped the input to the output. However, for a model to be really useful it has to generalize.\n",
    "\n",
    "Next step: testing out our model, on some unseen test data."
   ]
  },
  {
   "cell_type": "code",
   "execution_count": 67,
   "metadata": {},
   "outputs": [
    {
     "name": "stdout",
     "output_type": "stream",
     "text": [
      "Test_targets: [1 0]\n",
      "test predictions: [1. 0.]\n"
     ]
    },
    {
     "data": {
      "image/png": "[encoded data removed]",
      "text/plain": [
       "<Figure size 360x576 with 2 Axes>"
      ]
     },
     "metadata": {
      "needs_background": "light"
     },
     "output_type": "display_data"
    }
   ],
   "source": [
    "# Inventing some new data of same format\n",
    "edge4 = np.array([[0,0,0,0,0, 0], [0,0,0,0,0,0], [0,1,1,0,0,0], [0,1,0,0,0,0], [0,0,0,0,0,0], [0, 0, 0, 0, 0, 0]])\n",
    "singles4 = np.array([[0,0,0,0,0,0], [0,0,0,0,1,0], [0,0,0,0,0,0], [0,0,0,0,0,0], [0,0,0,0,0,0], [0, 0, 0, 0, 0, 0]])\n",
    "fig, axs = plt.subplots(nrows=1, ncols=2, figsize=(5, 8))\n",
    "axs[0].imshow(edge4)\n",
    "axs[1].imshow(singles4)\n",
    "test_preds = [prediction(model, [edge4], scale=1)[0], prediction(model, [singles4], scale=1)[0]]\n",
    "print(\"Test_targets:\", np.asarray([1, 0]))\n",
    "print(\"test predictions:\", np.round(test_preds, 2))"
   ]
  },
  {
   "cell_type": "markdown",
   "metadata": {},
   "source": [
    "It managed to classify new data succesfully, however at a slightly lower certainty; lets look at some other interesting topics:\n",
    "\n",
    "## Data shuffle\n",
    "\n",
    "Something as simple as shuffling the data can have a big impact on convergence rate. Notice in the \"simple_fit()\" the model would first see three samples of case 1, then case 0. This makes the model start specializing too heavily towards one case before seeing the other, making the model very \"jittery\". Lets see the effect of simply shuffling the data first:"
   ]
  },
  {
   "cell_type": "code",
   "execution_count": 68,
   "metadata": {},
   "outputs": [
    {
     "data": {
      "text/plain": [
       "(array([1, 1, 1, 0, 0, 0]), array([1, 0, 1, 0, 1, 0]))"
      ]
     },
     "execution_count": 68,
     "metadata": {},
     "output_type": "execute_result"
    }
   ],
   "source": [
    "# Since our dataset is so small, I will manually shuffle it to make sure we don't get the same repeating sequences.\n",
    "shuffle = np.array([0, 3, 1, 4, 2, 5])\n",
    "X_train_shuffled = X_train[shuffle]\n",
    "y_train_shuffled = y_train[shuffle]\n",
    "y_train, y_train_shuffled"
   ]
  },
  {
   "cell_type": "code",
   "execution_count": 69,
   "metadata": {},
   "outputs": [
    {
     "name": "stdout",
     "output_type": "stream",
     "text": [
      "predictions: [1. 1. 1. 0. 0. 0.]\n",
      "targets: [1 1 1 0 0 0]\n"
     ]
    }
   ],
   "source": [
    "model_shuffle, losses_shuffle = simple_fit(X_train_shuffled, y_train_shuffled, lr=0.05, epochs=600, scale=1)\n",
    "\n",
    "predictions = prediction(model_shuffle, X_train, scale=1)\n",
    "print(\"predictions:\", np.round(predictions, 1))\n",
    "print(\"targets:\", np.round(y_train, 1))"
   ]
  },
  {
   "cell_type": "code",
   "execution_count": 72,
   "metadata": {},
   "outputs": [
    {
     "data": {
      "image/png": "[encoded data removed]",
      "text/plain": [
       "<Figure size 432x288 with 1 Axes>"
      ]
     },
     "metadata": {
      "needs_background": "light"
     },
     "output_type": "display_data"
    }
   ],
   "source": [
    "plt.title(\"Shuffle vs No shuffle\")\n",
    "plt.plot(np.linspace(0, len(losses), len(losses)), losses, label=\"No shuffle\")\n",
    "plt.plot(np.linspace(0, len(losses_shuffle), len(losses_shuffle)), losses_shuffle, label=\"shuffle\")\n",
    "plt.legend();"
   ]
  },
  {
   "cell_type": "markdown",
   "metadata": {},
   "source": [
    "**NB** \\\n",
    "It will not *always* be apparent that shuffeling causes less jitter in the convergence, but on average that should be the case. My results often looked like this:\n",
    "\n",
    "![shuffle](images/shuffle%20vs%20no%20shuffle.png)"
   ]
  },
  {
   "cell_type": "markdown",
   "metadata": {},
   "source": [
    "## Looking at batching\n",
    "On the loss-graph from the previous attempt we see that the loss is very \"jittery\" - as we do a full BPass for each training sample.\n",
    "\n",
    "So, the model will try to improve predicting a single sample, which will often be going in a wrong direction compared to other samples.\n",
    "\n",
    "Batching, is when we use N training sample at the time to update our parameters; usually averaging our losses / our deltas before doing a pass.\n",
    "\n",
    "The advantages of such a methods is:\n",
    "- Smalles \"spikes\" / smoother convergence\n",
    "- Typically faster training: The backwards pass is not done for each sample, speeding up the training. This is especially important for huge networks, and will not be apparent here."
   ]
  },
  {
   "cell_type": "code",
   "execution_count": 36,
   "metadata": {},
   "outputs": [],
   "source": [
    "\"\"\"\n",
    "The same fit as above, only with batches added.\n",
    "\"\"\"\n",
    "def simple_batch_fit(X_train, y_train, lr=0.1, epochs=10, scale=255, batch_size=3):\n",
    "    \"\"\"\n",
    "    Simple batch fit function, doing complete FBpass over a training set.add\n",
    "    Inputs:\n",
    "    - Xtrain: A list of training samples. (2D images)\n",
    "    - y_train: labels - 0 or 1.\n",
    "    - lr: learning rate\n",
    "    - epochs: no. epochs to do.\n",
    "    - scale: scale of inputs - a simple normalization.\n",
    "    - batch_size: how many samples per batch.\n",
    "    Returns:\n",
    "    - model: containing all trainable parameters at final iteration.\n",
    "    - losses: history of losses recorded after each Bpass.\n",
    "    \"\"\"\n",
    "    # Initialize randomly\n",
    "    b1 = 1.0 # conv Bias\n",
    "    F = np.array([[-0.5,0.5, -0.5],[-0.5,0.5, -0.5], [-0.5,0.5, -0.5]]) # Kernel\n",
    "    #F = np.array([[0.1,-0.1],[-0.1,0.1]]) # Kernel\n",
    "    w4 = None \n",
    "    b4 = 0 # neuron Bias\n",
    "    lr = lr # Learning rate\n",
    "    losses = []\n",
    "\n",
    "    for e in range(epochs):\n",
    "        batch_loss=0\n",
    "        batch_delta=0\n",
    "        \n",
    "        for i, X in enumerate(X_train):\n",
    "            X = X/scale # normalize\n",
    "            ####################\n",
    "            ### Forward pass ###\n",
    "            ####################\n",
    "            # Convolution\n",
    "            z1 = convolution(X, F, b1, s=1) # Perform convolution\n",
    "            a1 = ReLU(z1) # Apply AF\n",
    "            # Maxpool and flatten\n",
    "            a2, max_idx = max_pool(a1, k=2, s=2)\n",
    "            a3 = a2.flatten()\n",
    "            # Initialize to correct size\n",
    "            if e==0 and i==0:\n",
    "                w4 = np.random.randn(len(a3))\n",
    "            # Fully-connected layer\n",
    "            z4 = w4.dot(a3) + b4\n",
    "            a4 = sigmoid(z4)\n",
    "            # Loss\n",
    "            loss = bce_loss(y_train[i], a4)\n",
    "            delta = d_bce_loss(y_train[i], a4) * d_sigmoid(z4)\n",
    "            if math.isnan(loss):\n",
    "                # Could not find solution, restarting\n",
    "                return simple_batch_fit(X_train, y_train, lr=lr, epochs=epochs, scale=scale, batch_size=batch_size)\n",
    "\n",
    "            batch_loss+=loss/batch_size\n",
    "            losses.append(batch_loss)\n",
    "            batch_delta+=delta/batch_size\n",
    "            \n",
    "            if (i+1)%batch_size==0:\n",
    "                ####################\n",
    "                ### Backward pass ##\n",
    "                ####################\n",
    "                # Fully connected layer:\n",
    "                delta = batch_delta\n",
    "                b4 = b4 - lr * delta # Update bias\n",
    "                delta = delta * a3 # Gradient wrt. w4\n",
    "                w4 = w4 - lr * delta # Update weights\n",
    "\n",
    "                # NEXT, we unflatten the backpropagated derivative:\n",
    "                delta = delta.reshape(a2.shape)\n",
    "                # maxpooling layer\n",
    "                d = np.zeros(a1.shape)\n",
    "                for idx, grad in zip(max_idx, delta.flatten()):\n",
    "                    i, j = idx[0], idx[1]\n",
    "                    d[i,j] = grad\n",
    "                delta = d\n",
    "                # Backprop through delta\n",
    "                delta = d_ReLU(z1) * delta\n",
    "                # The conv bias\n",
    "                grad_b1 = delta.sum() # dL/d(b1)\n",
    "                b1 = b1 - lr * grad_b1 # Update bias\n",
    "                # The conv kernel\n",
    "                grad_F = convolution(X, delta)\n",
    "                F = F - lr * grad_F # Update weights\n",
    "\n",
    "                batch_loss = 0\n",
    "                batch_delta = 0\n",
    "\n",
    "    model = {\"b1\":b1, \"F\":F, \"b4\":b4, \"w4\":w4}\n",
    "    return model, losses"
   ]
  },
  {
   "cell_type": "code",
   "execution_count": 53,
   "metadata": {},
   "outputs": [
    {
     "name": "stdout",
     "output_type": "stream",
     "text": [
      "Batch-size=1\n",
      "Targets: [1 1 1 0 0 0]\n",
      "Predictions: [1.   1.   1.   0.   0.01 0.  ]\n",
      "Batch-size=2\n",
      "Targets: [1 1 1 0 0 0]\n",
      "Predictions: [0.95 0.95 0.93 0.08 0.12 0.12]\n",
      "Batch-size=3\n",
      "Targets: [1 1 1 0 0 0]\n",
      "Predictions: [0.95 0.99 0.85 0.   0.09 0.  ]\n"
     ]
    }
   ],
   "source": [
    "model_batch_1, losses_batch_1 = simple_batch_fit(X_train_shuffled, y_train_shuffled, lr=0.05, epochs=200, scale=1, batch_size=1)\n",
    "model_batch_2, losses_batch_2 = simple_batch_fit(X_train_shuffled, y_train_shuffled, lr=0.05, epochs=600, scale=1, batch_size=2)\n",
    "model_batch_3, losses_batch_3 = simple_batch_fit(X_train_shuffled, y_train_shuffled, lr=0.05, epochs=800, scale=1, batch_size=3)\n",
    "\n",
    "print(\"Batch-size=1\")\n",
    "print(\"Targets:\", y_train)\n",
    "print(\"Predictions:\", np.round(prediction(model_batch_1, X_train, scale=1),2))\n",
    "print(\"Batch-size=2\")\n",
    "print(\"Targets:\", y_train)\n",
    "print(\"Predictions:\", np.round(prediction(model_batch_2, X_train, scale=1),2))\n",
    "print(\"Batch-size=3\")\n",
    "print(\"Targets:\", y_train)\n",
    "print(\"Predictions:\", np.round(prediction(model_batch_3, X_train, scale=1),2))\n"
   ]
  },
  {
   "cell_type": "code",
   "execution_count": 54,
   "metadata": {},
   "outputs": [
    {
     "data": {
      "image/png": "[encoded data removed]",
      "text/plain": [
       "<Figure size 1080x360 with 3 Axes>"
      ]
     },
     "metadata": {
      "needs_background": "light"
     },
     "output_type": "display_data"
    }
   ],
   "source": [
    "# Average loss over time\n",
    "fig, axs = plt.subplots(nrows=1, ncols=3, figsize=(15,5))\n",
    "axs[0].set_title(\"Batch size = 1\")\n",
    "axs[0].set_xlabel(\"no. passes\")\n",
    "axs[0].set_ylabel(\"Binary cross entropy loss\")\n",
    "axs[0].plot(np.linspace(0, len(losses_batch_1), len(losses_batch_1)), losses_batch_1)\n",
    "\n",
    "axs[1].set_title(\"Batch size = 2\")\n",
    "axs[1].set_xlabel(\"no. passes\")\n",
    "axs[1].set_ylabel(\"Binary cross entropy loss\")\n",
    "axs[1].plot(np.linspace(0, len(losses_batch_2), len(losses_batch_2)), losses_batch_2)\n",
    "\n",
    "axs[2].set_title(\"Batch size = 3\")\n",
    "axs[2].set_xlabel(\"no. passes\")\n",
    "axs[2].set_ylabel(\"Binary cross entropy loss\")\n",
    "axs[2].plot(np.linspace(0, len(losses_batch_3), len(losses_batch_3)), losses_batch_3);"
   ]
  },
  {
   "cell_type": "markdown",
   "metadata": {},
   "source": [
    "**NB** look at the scale of the y-axis: the spikes / jitters in the y axis is a lot smoother. "
   ]
  },
  {
   "cell_type": "code",
   "execution_count": null,
   "metadata": {},
   "outputs": [],
   "source": []
  },
  {
   "cell_type": "markdown",
   "metadata": {},
   "source": [
    "## TODO / EXTRA\n",
    "1. If you want to classify more complex patters, depth need to be added to the conv net.\n",
    "2. If you want to classify more than one / two patterns, a bigger conv layer is needed.\n",
    "- Also; a different activation funcion than sigmoid; as it only gives answers close to 0 or 1. (use softmax)\n",
    "- The loss function would then be full cross entropy function.\n"
   ]
  },
  {
   "cell_type": "code",
   "execution_count": null,
   "metadata": {},
   "outputs": [],
   "source": []
  },
  {
   "cell_type": "code",
   "execution_count": null,
   "metadata": {},
   "outputs": [],
   "source": []
  }
 ],
 "metadata": {
  "kernelspec": {
   "display_name": "Python 3.7.8 64-bit",
   "language": "python",
   "name": "python3"
  },
  "language_info": {
   "codemirror_mode": {
    "name": "ipython",
    "version": 3
   },
   "file_extension": ".py",
   "mimetype": "text/x-python",
   "name": "python",
   "nbconvert_exporter": "python",
   "pygments_lexer": "ipython3",
   "version": "3.7.8"
  },
  "orig_nbformat": 4,
  "vscode": {
   "interpreter": {
    "hash": "9f4bcb5483d3797e4ccb7ceb460a740ac9f20da3efed712a7aa712a18b8eadf8"
   }
  }
 },
 "nbformat": 4,
 "nbformat_minor": 2
}
