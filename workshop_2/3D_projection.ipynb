{
 "cells": [
  {
   "cell_type": "code",
   "execution_count": 17,
   "metadata": {},
   "outputs": [],
   "source": [
    "import numpy as np"
   ]
  },
  {
   "cell_type": "code",
   "execution_count": 18,
   "metadata": {},
   "outputs": [],
   "source": [
    "# PARAMS\n",
    "f = 0.025\n",
    "cx = 4096/2\n",
    "cy = 2168/2\n",
    "h = 10\n",
    "theta = np.deg2rad(15)\n",
    "phi = np.deg2rad(10)\n",
    "\n",
    "ctheta = np.cos(theta)\n",
    "stheta = np.sin(theta)\n",
    "cphi = np.cos(phi)\n",
    "sphi = np.sin(phi)\n",
    "\n",
    "## Matrices\n",
    "K = np.array([[f, 0, cx],\n",
    "              [0, f, cy],\n",
    "              [0, 0, 1]])\n",
    "\n",
    "R = np.array([[ctheta,          -stheta,        0], \n",
    "              [-sphi*stheta, -sphi*ctheta,  -cphi], \n",
    "              [cphi*stheta, cphi*ctheta,    -sphi]])\n",
    "\n",
    "t = np.array([[0],\n",
    "              [0], \n",
    "              [-h]])\n",
    "              \n",
    "# World point: On ground level, 99 meter along road, 7 meters to the right of camera\n",
    "Q = np.array([[7.355], [99.837], [0], [1]])"
   ]
  },
  {
   "cell_type": "code",
   "execution_count": 19,
   "metadata": {},
   "outputs": [],
   "source": [
    "q = K@np.hstack((R, t))@Q"
   ]
  },
  {
   "cell_type": "code",
   "execution_count": 20,
   "metadata": {},
   "outputs": [],
   "source": [
    "p = q[0:2, :]/q[2, :]"
   ]
  },
  {
   "cell_type": "code",
   "execution_count": 21,
   "metadata": {},
   "outputs": [
    {
     "data": {
      "text/plain": [
       "(array([[2047.99460666],\n",
       "        [1083.99508423]]),\n",
       " array([[1.77857609e+05],\n",
       "        [9.41392975e+04],\n",
       "        [8.68447642e+01]]))"
      ]
     },
     "execution_count": 21,
     "metadata": {},
     "output_type": "execute_result"
    }
   ],
   "source": [
    "p, q"
   ]
  },
  {
   "cell_type": "code",
   "execution_count": 25,
   "metadata": {},
   "outputs": [
    {
     "data": {
      "text/plain": [
       "(2048.0, 1084.0)"
      ]
     },
     "execution_count": 25,
     "metadata": {},
     "output_type": "execute_result"
    }
   ],
   "source": [
    "cx, cy\n"
   ]
  },
  {
   "cell_type": "code",
   "execution_count": null,
   "metadata": {},
   "outputs": [],
   "source": []
  }
 ],
 "metadata": {
  "kernelspec": {
   "display_name": "Python 3.10.8 64-bit",
   "language": "python",
   "name": "python3"
  },
  "language_info": {
   "codemirror_mode": {
    "name": "ipython",
    "version": 3
   },
   "file_extension": ".py",
   "mimetype": "text/x-python",
   "name": "python",
   "nbconvert_exporter": "python",
   "pygments_lexer": "ipython3",
   "version": "3.10.8"
  },
  "orig_nbformat": 4,
  "vscode": {
   "interpreter": {
    "hash": "26de051ba29f2982a8de78e945f0abaf191376122a1563185a90213a26c5da77"
   }
  }
 },
 "nbformat": 4,
 "nbformat_minor": 2
}
